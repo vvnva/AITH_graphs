{
  "cells": [
    {
      "cell_type": "code",
      "source": [
        "!pip install dgl==1.0.1 dglgo -f https://data.dgl.ai/wheels/repo.html -q"
      ],
      "metadata": {
        "id": "aj9_ViUhnoh7"
      },
      "id": "aj9_ViUhnoh7",
      "execution_count": 1,
      "outputs": []
    },
    {
      "cell_type": "markdown",
      "id": "a7bb63bc",
      "metadata": {
        "id": "a7bb63bc"
      },
      "source": [
        "# Assignment — Link Prediction & GNN"
      ]
    },
    {
      "cell_type": "code",
      "execution_count": 2,
      "id": "0384291a",
      "metadata": {
        "id": "0384291a"
      },
      "outputs": [],
      "source": [
        "from sklearn.manifold import TSNE\n",
        "from tqdm.notebook import trange\n",
        "import torch\n",
        "import networkx as nx\n",
        "import matplotlib.pyplot as plt\n",
        "import torch.nn as nn\n",
        "import numpy as np\n",
        "import torch.nn.functional as F\n",
        "import requests\n",
        "from sklearn.metrics import balanced_accuracy_score\n",
        "import pandas as pd\n",
        "from torch.optim import Adam\n",
        "from sklearn.linear_model import LogisticRegression\n",
        "from tqdm.notebook import tqdm\n",
        "from sklearn.metrics import roc_curve, auc\n",
        "from sklearn.decomposition import TruncatedSVD"
      ]
    },
    {
      "cell_type": "markdown",
      "id": "2167ea23",
      "metadata": {
        "id": "2167ea23"
      },
      "source": [
        "### Task 1. Dataset for link prediction (0 points)"
      ]
    },
    {
      "cell_type": "markdown",
      "id": "822464e9",
      "metadata": {
        "id": "822464e9"
      },
      "source": [
        "Consider link prediction on the [e-mails network](http://snap.stanford.edu/data/email-Eu-core-temporal.html) where nodes are members of a research institution and edges are e-mails given with timestamps. The goal is to predict occurrence of edges in the test time period using information from the train time period only."
      ]
    },
    {
      "cell_type": "code",
      "execution_count": 3,
      "id": "436d1161",
      "metadata": {
        "id": "436d1161"
      },
      "outputs": [],
      "source": [
        "url = 'https://raw.githubusercontent.com/netspractice/network-science/main/datasets/email-Eu-core-temporal.txt'\n",
        "open('email-Eu-core-temporal.txt', 'wb').write(requests.get(url).content);\n"
      ]
    },
    {
      "cell_type": "code",
      "execution_count": 4,
      "id": "875efdc5",
      "metadata": {
        "id": "875efdc5",
        "colab": {
          "base_uri": "https://localhost:8080/",
          "height": 423
        },
        "outputId": "d320cebf-1055-4a04-bb21-bd80c695cfc6"
      },
      "outputs": [
        {
          "output_type": "execute_result",
          "data": {
            "text/plain": [
              "        sender  receiver  timestamp\n",
              "0          582       364          0\n",
              "1          168       472       2797\n",
              "2          168       912       3304\n",
              "3            2       790       4523\n",
              "4            2       322       7926\n",
              "...        ...       ...        ...\n",
              "332329     324       367   45401817\n",
              "332330     790       126   45402441\n",
              "332331     790       126   45403709\n",
              "332332     782       126   45404903\n",
              "332333     685       643   45405138\n",
              "\n",
              "[332334 rows x 3 columns]"
            ],
            "text/html": [
              "\n",
              "  <div id=\"df-11b1db5e-c2c9-4d6c-a375-4f43924b3c5b\" class=\"colab-df-container\">\n",
              "    <div>\n",
              "<style scoped>\n",
              "    .dataframe tbody tr th:only-of-type {\n",
              "        vertical-align: middle;\n",
              "    }\n",
              "\n",
              "    .dataframe tbody tr th {\n",
              "        vertical-align: top;\n",
              "    }\n",
              "\n",
              "    .dataframe thead th {\n",
              "        text-align: right;\n",
              "    }\n",
              "</style>\n",
              "<table border=\"1\" class=\"dataframe\">\n",
              "  <thead>\n",
              "    <tr style=\"text-align: right;\">\n",
              "      <th></th>\n",
              "      <th>sender</th>\n",
              "      <th>receiver</th>\n",
              "      <th>timestamp</th>\n",
              "    </tr>\n",
              "  </thead>\n",
              "  <tbody>\n",
              "    <tr>\n",
              "      <th>0</th>\n",
              "      <td>582</td>\n",
              "      <td>364</td>\n",
              "      <td>0</td>\n",
              "    </tr>\n",
              "    <tr>\n",
              "      <th>1</th>\n",
              "      <td>168</td>\n",
              "      <td>472</td>\n",
              "      <td>2797</td>\n",
              "    </tr>\n",
              "    <tr>\n",
              "      <th>2</th>\n",
              "      <td>168</td>\n",
              "      <td>912</td>\n",
              "      <td>3304</td>\n",
              "    </tr>\n",
              "    <tr>\n",
              "      <th>3</th>\n",
              "      <td>2</td>\n",
              "      <td>790</td>\n",
              "      <td>4523</td>\n",
              "    </tr>\n",
              "    <tr>\n",
              "      <th>4</th>\n",
              "      <td>2</td>\n",
              "      <td>322</td>\n",
              "      <td>7926</td>\n",
              "    </tr>\n",
              "    <tr>\n",
              "      <th>...</th>\n",
              "      <td>...</td>\n",
              "      <td>...</td>\n",
              "      <td>...</td>\n",
              "    </tr>\n",
              "    <tr>\n",
              "      <th>332329</th>\n",
              "      <td>324</td>\n",
              "      <td>367</td>\n",
              "      <td>45401817</td>\n",
              "    </tr>\n",
              "    <tr>\n",
              "      <th>332330</th>\n",
              "      <td>790</td>\n",
              "      <td>126</td>\n",
              "      <td>45402441</td>\n",
              "    </tr>\n",
              "    <tr>\n",
              "      <th>332331</th>\n",
              "      <td>790</td>\n",
              "      <td>126</td>\n",
              "      <td>45403709</td>\n",
              "    </tr>\n",
              "    <tr>\n",
              "      <th>332332</th>\n",
              "      <td>782</td>\n",
              "      <td>126</td>\n",
              "      <td>45404903</td>\n",
              "    </tr>\n",
              "    <tr>\n",
              "      <th>332333</th>\n",
              "      <td>685</td>\n",
              "      <td>643</td>\n",
              "      <td>45405138</td>\n",
              "    </tr>\n",
              "  </tbody>\n",
              "</table>\n",
              "<p>332334 rows × 3 columns</p>\n",
              "</div>\n",
              "    <div class=\"colab-df-buttons\">\n",
              "\n",
              "  <div class=\"colab-df-container\">\n",
              "    <button class=\"colab-df-convert\" onclick=\"convertToInteractive('df-11b1db5e-c2c9-4d6c-a375-4f43924b3c5b')\"\n",
              "            title=\"Convert this dataframe to an interactive table.\"\n",
              "            style=\"display:none;\">\n",
              "\n",
              "  <svg xmlns=\"http://www.w3.org/2000/svg\" height=\"24px\" viewBox=\"0 -960 960 960\">\n",
              "    <path d=\"M120-120v-720h720v720H120Zm60-500h600v-160H180v160Zm220 220h160v-160H400v160Zm0 220h160v-160H400v160ZM180-400h160v-160H180v160Zm440 0h160v-160H620v160ZM180-180h160v-160H180v160Zm440 0h160v-160H620v160Z\"/>\n",
              "  </svg>\n",
              "    </button>\n",
              "\n",
              "  <style>\n",
              "    .colab-df-container {\n",
              "      display:flex;\n",
              "      gap: 12px;\n",
              "    }\n",
              "\n",
              "    .colab-df-convert {\n",
              "      background-color: #E8F0FE;\n",
              "      border: none;\n",
              "      border-radius: 50%;\n",
              "      cursor: pointer;\n",
              "      display: none;\n",
              "      fill: #1967D2;\n",
              "      height: 32px;\n",
              "      padding: 0 0 0 0;\n",
              "      width: 32px;\n",
              "    }\n",
              "\n",
              "    .colab-df-convert:hover {\n",
              "      background-color: #E2EBFA;\n",
              "      box-shadow: 0px 1px 2px rgba(60, 64, 67, 0.3), 0px 1px 3px 1px rgba(60, 64, 67, 0.15);\n",
              "      fill: #174EA6;\n",
              "    }\n",
              "\n",
              "    .colab-df-buttons div {\n",
              "      margin-bottom: 4px;\n",
              "    }\n",
              "\n",
              "    [theme=dark] .colab-df-convert {\n",
              "      background-color: #3B4455;\n",
              "      fill: #D2E3FC;\n",
              "    }\n",
              "\n",
              "    [theme=dark] .colab-df-convert:hover {\n",
              "      background-color: #434B5C;\n",
              "      box-shadow: 0px 1px 3px 1px rgba(0, 0, 0, 0.15);\n",
              "      filter: drop-shadow(0px 1px 2px rgba(0, 0, 0, 0.3));\n",
              "      fill: #FFFFFF;\n",
              "    }\n",
              "  </style>\n",
              "\n",
              "    <script>\n",
              "      const buttonEl =\n",
              "        document.querySelector('#df-11b1db5e-c2c9-4d6c-a375-4f43924b3c5b button.colab-df-convert');\n",
              "      buttonEl.style.display =\n",
              "        google.colab.kernel.accessAllowed ? 'block' : 'none';\n",
              "\n",
              "      async function convertToInteractive(key) {\n",
              "        const element = document.querySelector('#df-11b1db5e-c2c9-4d6c-a375-4f43924b3c5b');\n",
              "        const dataTable =\n",
              "          await google.colab.kernel.invokeFunction('convertToInteractive',\n",
              "                                                    [key], {});\n",
              "        if (!dataTable) return;\n",
              "\n",
              "        const docLinkHtml = 'Like what you see? Visit the ' +\n",
              "          '<a target=\"_blank\" href=https://colab.research.google.com/notebooks/data_table.ipynb>data table notebook</a>'\n",
              "          + ' to learn more about interactive tables.';\n",
              "        element.innerHTML = '';\n",
              "        dataTable['output_type'] = 'display_data';\n",
              "        await google.colab.output.renderOutput(dataTable, element);\n",
              "        const docLink = document.createElement('div');\n",
              "        docLink.innerHTML = docLinkHtml;\n",
              "        element.appendChild(docLink);\n",
              "      }\n",
              "    </script>\n",
              "  </div>\n",
              "\n",
              "\n",
              "<div id=\"df-77cda6a3-5be9-409e-88cd-b12a4d4dd5e5\">\n",
              "  <button class=\"colab-df-quickchart\" onclick=\"quickchart('df-77cda6a3-5be9-409e-88cd-b12a4d4dd5e5')\"\n",
              "            title=\"Suggest charts\"\n",
              "            style=\"display:none;\">\n",
              "\n",
              "<svg xmlns=\"http://www.w3.org/2000/svg\" height=\"24px\"viewBox=\"0 0 24 24\"\n",
              "     width=\"24px\">\n",
              "    <g>\n",
              "        <path d=\"M19 3H5c-1.1 0-2 .9-2 2v14c0 1.1.9 2 2 2h14c1.1 0 2-.9 2-2V5c0-1.1-.9-2-2-2zM9 17H7v-7h2v7zm4 0h-2V7h2v10zm4 0h-2v-4h2v4z\"/>\n",
              "    </g>\n",
              "</svg>\n",
              "  </button>\n",
              "\n",
              "<style>\n",
              "  .colab-df-quickchart {\n",
              "      --bg-color: #E8F0FE;\n",
              "      --fill-color: #1967D2;\n",
              "      --hover-bg-color: #E2EBFA;\n",
              "      --hover-fill-color: #174EA6;\n",
              "      --disabled-fill-color: #AAA;\n",
              "      --disabled-bg-color: #DDD;\n",
              "  }\n",
              "\n",
              "  [theme=dark] .colab-df-quickchart {\n",
              "      --bg-color: #3B4455;\n",
              "      --fill-color: #D2E3FC;\n",
              "      --hover-bg-color: #434B5C;\n",
              "      --hover-fill-color: #FFFFFF;\n",
              "      --disabled-bg-color: #3B4455;\n",
              "      --disabled-fill-color: #666;\n",
              "  }\n",
              "\n",
              "  .colab-df-quickchart {\n",
              "    background-color: var(--bg-color);\n",
              "    border: none;\n",
              "    border-radius: 50%;\n",
              "    cursor: pointer;\n",
              "    display: none;\n",
              "    fill: var(--fill-color);\n",
              "    height: 32px;\n",
              "    padding: 0;\n",
              "    width: 32px;\n",
              "  }\n",
              "\n",
              "  .colab-df-quickchart:hover {\n",
              "    background-color: var(--hover-bg-color);\n",
              "    box-shadow: 0 1px 2px rgba(60, 64, 67, 0.3), 0 1px 3px 1px rgba(60, 64, 67, 0.15);\n",
              "    fill: var(--button-hover-fill-color);\n",
              "  }\n",
              "\n",
              "  .colab-df-quickchart-complete:disabled,\n",
              "  .colab-df-quickchart-complete:disabled:hover {\n",
              "    background-color: var(--disabled-bg-color);\n",
              "    fill: var(--disabled-fill-color);\n",
              "    box-shadow: none;\n",
              "  }\n",
              "\n",
              "  .colab-df-spinner {\n",
              "    border: 2px solid var(--fill-color);\n",
              "    border-color: transparent;\n",
              "    border-bottom-color: var(--fill-color);\n",
              "    animation:\n",
              "      spin 1s steps(1) infinite;\n",
              "  }\n",
              "\n",
              "  @keyframes spin {\n",
              "    0% {\n",
              "      border-color: transparent;\n",
              "      border-bottom-color: var(--fill-color);\n",
              "      border-left-color: var(--fill-color);\n",
              "    }\n",
              "    20% {\n",
              "      border-color: transparent;\n",
              "      border-left-color: var(--fill-color);\n",
              "      border-top-color: var(--fill-color);\n",
              "    }\n",
              "    30% {\n",
              "      border-color: transparent;\n",
              "      border-left-color: var(--fill-color);\n",
              "      border-top-color: var(--fill-color);\n",
              "      border-right-color: var(--fill-color);\n",
              "    }\n",
              "    40% {\n",
              "      border-color: transparent;\n",
              "      border-right-color: var(--fill-color);\n",
              "      border-top-color: var(--fill-color);\n",
              "    }\n",
              "    60% {\n",
              "      border-color: transparent;\n",
              "      border-right-color: var(--fill-color);\n",
              "    }\n",
              "    80% {\n",
              "      border-color: transparent;\n",
              "      border-right-color: var(--fill-color);\n",
              "      border-bottom-color: var(--fill-color);\n",
              "    }\n",
              "    90% {\n",
              "      border-color: transparent;\n",
              "      border-bottom-color: var(--fill-color);\n",
              "    }\n",
              "  }\n",
              "</style>\n",
              "\n",
              "  <script>\n",
              "    async function quickchart(key) {\n",
              "      const quickchartButtonEl =\n",
              "        document.querySelector('#' + key + ' button');\n",
              "      quickchartButtonEl.disabled = true;  // To prevent multiple clicks.\n",
              "      quickchartButtonEl.classList.add('colab-df-spinner');\n",
              "      try {\n",
              "        const charts = await google.colab.kernel.invokeFunction(\n",
              "            'suggestCharts', [key], {});\n",
              "      } catch (error) {\n",
              "        console.error('Error during call to suggestCharts:', error);\n",
              "      }\n",
              "      quickchartButtonEl.classList.remove('colab-df-spinner');\n",
              "      quickchartButtonEl.classList.add('colab-df-quickchart-complete');\n",
              "    }\n",
              "    (() => {\n",
              "      let quickchartButtonEl =\n",
              "        document.querySelector('#df-77cda6a3-5be9-409e-88cd-b12a4d4dd5e5 button');\n",
              "      quickchartButtonEl.style.display =\n",
              "        google.colab.kernel.accessAllowed ? 'block' : 'none';\n",
              "    })();\n",
              "  </script>\n",
              "</div>\n",
              "    </div>\n",
              "  </div>\n"
            ],
            "application/vnd.google.colaboratory.intrinsic+json": {
              "type": "dataframe",
              "variable_name": "email_df"
            }
          },
          "metadata": {},
          "execution_count": 4
        }
      ],
      "source": [
        "email_df = pd.read_csv(\n",
        "    'email-Eu-core-temporal.txt',\n",
        "    delimiter=' ',\n",
        "    names=['sender', 'receiver', 'timestamp']\n",
        ")\n",
        "email_df"
      ]
    },
    {
      "cell_type": "markdown",
      "id": "52dedcae",
      "metadata": {
        "id": "52dedcae"
      },
      "source": [
        "Next, consider the following preprocessing procedure:\n",
        "1. Select edges by given train and test time periods, for example, [0, 1000) is train and [1000, 2000) is test\n",
        "2. Build a _core_ — a connected network where every edge occurs at least $k_\\text{train}$ times in the train time period or at least $k_\\text{test}$ times in the test time period. Let the core be undirected, so occurrences edges (1, 0) and (0, 1) are computed together.\n",
        "3. From the core, select a train set of edges $E_\\text{train}$ that occur for the first time in the train period. All others are included to $E_\\text{test}$.\n",
        "3. Exclude test edges that contain nodes that do not occur in train edges.\n",
        "\n",
        "Write a function `train_test_edges` that takes a pd.DataFrame `email_df` with e-mail network, a tuple with the train time period borders `train_period`, say, (0, 1000), a similar tuple `test_period`, the number of edges occurrences `ktrain` and `ktest`. The function returns two lists with tuples — train and test edges. Every edge is returned of the form where the first node is less than the second, for example [(1, 2), (2, 3)] is ok, but [(2, 1), (3, 2)] is wrong."
      ]
    },
    {
      "cell_type": "code",
      "execution_count": 5,
      "id": "1807dea0",
      "metadata": {
        "id": "1807dea0",
        "nbgrader": {
          "checksum": "d02465886cf63caec30af195db4cf5b9",
          "grade": false,
          "grade_id": "cell-676bd18fcab3c342",
          "locked": false,
          "schema_version": 3,
          "solution": true,
          "task": false
        }
      },
      "outputs": [],
      "source": [
        "def train_test_edges(email_df, train_period, test_period, ktrain, ktest):\n",
        "\n",
        "    email_temp = email_df.copy()\n",
        "    email_temp = email_temp[\n",
        "        (train_period[0] <= email_temp.timestamp)\n",
        "        & (email_temp.timestamp < test_period[1])\n",
        "    ]\n",
        "    email_temp['from'] = email_temp[['sender', 'receiver']].min(axis=1)\n",
        "    email_temp['to'] = email_temp[['sender', 'receiver']].max(axis=1)\n",
        "    email_temp = email_temp.drop(['sender', 'receiver'], axis=1)\n",
        "    email_temp = email_temp.set_index(['from', 'to'])\n",
        "\n",
        "    email_train = email_temp[email_temp.timestamp < train_period[1]]\n",
        "    email_train = email_train.groupby(['from', 'to']).count()\n",
        "    train_core = email_train[email_train.timestamp >= ktrain].index.tolist()\n",
        "\n",
        "    email_test = email_temp[test_period[0] <= email_temp.timestamp]\n",
        "    email_test = email_test.groupby(['from', 'to']).count()\n",
        "    test_core = email_test[email_test.timestamp >= ktest].index.tolist()\n",
        "\n",
        "    core = list(set(train_core + test_core))\n",
        "\n",
        "    ### BEGIN SOLUTION\n",
        "    email_first = email_temp.loc[core].groupby(['from', 'to']).min()\n",
        "\n",
        "    train_edges = email_first[email_first.timestamp < train_period[1]].index.tolist()\n",
        "    _test_edges = email_first[test_period[0] <= email_first.timestamp].index.tolist()\n",
        "\n",
        "    train_nodes = set()\n",
        "    for (u, v) in train_edges:\n",
        "        train_nodes.add(u)\n",
        "        train_nodes.add(v)\n",
        "    test_edges = []\n",
        "    for (u, v) in _test_edges:\n",
        "        if u in train_nodes and v in train_nodes:\n",
        "            test_edges.append((u, v))\n",
        "\n",
        "    return train_edges, test_edges\n",
        "    ### END SOLUTION"
      ]
    },
    {
      "cell_type": "code",
      "execution_count": 6,
      "id": "8fa14f8e",
      "metadata": {
        "id": "8fa14f8e",
        "nbgrader": {
          "checksum": "da565e34660337c25e9701492519f95a",
          "grade": true,
          "grade_id": "cell-a77f2fa764e87595",
          "locked": true,
          "points": 0,
          "schema_version": 3,
          "solution": false,
          "task": false
        }
      },
      "outputs": [],
      "source": [
        "train_pos, test_pos = train_test_edges(email_df, (1e7, 2e7), (2e7, 2.5e7), 4, 2)\n",
        "_train_pos, _test_pos = np.array(train_pos), np.array(test_pos)\n",
        "assert np.all(_train_pos[:, 0] < _train_pos[:, 1])\n",
        "assert np.all(_test_pos[:, 0] < _test_pos[:, 1])\n",
        "assert len(set(train_pos).intersection(test_pos)) == 0\n",
        "assert _train_pos.shape == (3880, 2)\n",
        "assert _test_pos.shape == (720, 2)"
      ]
    },
    {
      "cell_type": "markdown",
      "id": "a281bc10",
      "metadata": {
        "id": "a281bc10"
      },
      "source": [
        "### Task 2. Negative sampling (1 points)"
      ]
    },
    {
      "cell_type": "markdown",
      "id": "9699b925",
      "metadata": {
        "id": "9699b925"
      },
      "source": [
        "Usually, graphs are sparse, so there is the high imbalance between existent (positive) edges and nonexistent (negative) edges. Since the link prediction can be considered as a classification problem, the imbalance leads to the high misclassification. To eliminate this problem, we can use the negative sampling techniques, that is using only a some random part of negative edges in training.\n",
        "\n",
        "<img src='https://raw.githubusercontent.com/netspractice/network-science/main/images/pos_neg_edges.png' width=500>\n",
        "\n",
        "The simplest sampling strategy is to copy positive edges and randomly replace one node checking they do not occur in positive set and they are not self-loops. Let the negative set be the same size as the positive.\n",
        "\n",
        "The `negative_sampling` function samples the unexisted edges from the graph. It takes list of train and test positive edges and returns train and test negative edges."
      ]
    },
    {
      "cell_type": "code",
      "source": [
        "def negative_sampling(train_pos, test_pos):\n",
        "    train_neg = []\n",
        "    test_neg = []\n",
        "\n",
        "    nodes = list({node for edge in train_pos + test_pos for node in edge})\n",
        "    pos_edges_set = set(train_pos + test_pos)\n",
        "\n",
        "    def is_valid(u, v, neg_set):\n",
        "        return u != v and (u, v) not in pos_edges_set and (v, u) not in pos_edges_set and (u, v) not in neg_set and (v, u) not in neg_set\n",
        "\n",
        "    for pos_edges, neg_edges in [(train_pos, train_neg), (test_pos, test_neg)]:\n",
        "        neg_set = set()\n",
        "        for u, v in pos_edges:\n",
        "            while True:\n",
        "                w = np.random.choice(nodes)\n",
        "                if is_valid(u, w, neg_set):\n",
        "                    neg_edges.append((u, w))\n",
        "                    neg_set.add((u, w))\n",
        "                    break\n",
        "\n",
        "    return train_neg, test_neg"
      ],
      "metadata": {
        "id": "E4E9PDWIyA0m"
      },
      "id": "E4E9PDWIyA0m",
      "execution_count": 7,
      "outputs": []
    },
    {
      "cell_type": "code",
      "execution_count": 8,
      "id": "11ee8064",
      "metadata": {
        "id": "11ee8064",
        "nbgrader": {
          "checksum": "1bc37a39b370339c2b5af888964df05e",
          "grade": true,
          "grade_id": "cell-e71e5d52cb2cae88",
          "locked": true,
          "points": 1,
          "schema_version": 3,
          "solution": false,
          "task": false
        }
      },
      "outputs": [],
      "source": [
        "train_neg, test_neg = negative_sampling(train_pos, test_pos)\n",
        "neg_edges = train_neg + test_neg\n",
        "pos_edges = train_pos + test_pos\n",
        "assert len(train_neg) == len(train_pos)\n",
        "assert len(test_neg) == len(test_neg)\n",
        "# negative edges has nodes from only positive edges\n",
        "assert len(set(np.unique(neg_edges)).difference(np.unique(pos_edges))) == 0\n",
        "# source nodes are the same\n",
        "assert np.all(np.array(pos_edges)[:, 0] == np.array(neg_edges)[:, 0])\n",
        "# no edges in both\n",
        "assert len(set(pos_edges) & set(neg_edges)) == 0\n",
        "# reversed negative edges are not positive\n",
        "reversed_neg_edges = [(v, u) for u, v in neg_edges]\n",
        "assert len(set(pos_edges) & set(reversed_neg_edges)) == 0"
      ]
    },
    {
      "cell_type": "markdown",
      "id": "79b88a3e",
      "metadata": {
        "id": "79b88a3e"
      },
      "source": [
        "Form train and test pairs of nodes that contain positive and negative edges:\n",
        "* $X_\\text{train}, X_\\text{test}$ — pairs of nodes, contains positive and negative edges\n",
        "* $y_\\text{train}, y_\\text{test}$ — labels of pairs, 1 is positive, 0 is negative"
      ]
    },
    {
      "cell_type": "code",
      "execution_count": 9,
      "id": "df34f709",
      "metadata": {
        "id": "df34f709",
        "colab": {
          "base_uri": "https://localhost:8080/"
        },
        "outputId": "c1c572a0-83fa-4878-d382-e386a68a6ebb"
      },
      "outputs": [
        {
          "output_type": "execute_result",
          "data": {
            "text/plain": [
              "[1, 1, 0, 1, 0, 0, 1, 0, 1, 0]"
            ]
          },
          "metadata": {},
          "execution_count": 9
        }
      ],
      "source": [
        "x_train = np.random.permutation(train_pos + train_neg)\n",
        "y_train = [int((u, v) in train_pos) for (u, v) in x_train]\n",
        "\n",
        "x_test = np.random.permutation(test_pos + test_neg)\n",
        "y_test = [int((u, v) in test_pos) for (u, v) in x_test]\n",
        "y_test[:10]"
      ]
    },
    {
      "cell_type": "markdown",
      "id": "16a9d865",
      "metadata": {
        "id": "16a9d865"
      },
      "source": [
        "### Task 3. Prediction by similarity score (2 points)"
      ]
    },
    {
      "cell_type": "markdown",
      "id": "fee7be9b",
      "metadata": {
        "id": "fee7be9b"
      },
      "source": [
        "Similarity based algorithm predicts the existence of a link using the similarity score of a pair of nodes: $P(A_{i, j}) \\propto \\text{sim}(i, j)$. The algorithm builds a graph using only train positive edges, compute similarity score for all test pairs and then predicts the link existence by the threshold on ordered by similarity score pairs.\n",
        "\n",
        "Write a function `sim_link_prediction` that takes edges and labels. The function predicts links and returns a tuple with metrics:\n",
        "* FPR (false positive rate) and TPR (true positive rate) in descending of thresholds obtained by Jaccard coefficient, `nx.jaccard_coefficient`: $$\\text{sim}(i, j) = \\frac{|N(i) \\cap N(j)|}{|N(i) \\cup N(j)|}$$\n",
        "* FPR, TPR by Adamic-Adar index, `nx.adamic_adar_index`: $$\\text{sim}(i, j) = \\sum_{x \\in N(i) \\cap N(j)} \\frac{1}{\\log|N(x)|}$$\n",
        "* FPR, TPR by resource allocation index, `nx.resource_allocation_index`: $$\\text{sim}(i, j) = \\sum_{x \\in N(i) \\cap N(j)} \\frac{1}{|N(x)|}$$\n",
        "\n",
        "_Hint: use `sklearn.metrics.roc_curve`._"
      ]
    },
    {
      "cell_type": "code",
      "source": [
        "def sim_link_prediction(train_pos, x_test, y_test):\n",
        "    G = nx.Graph()\n",
        "    G.add_edges_from(train_pos)\n",
        "\n",
        "    preds_jaccard = list(nx.jaccard_coefficient(G, x_test))\n",
        "    jaccard_scores = [p for _, _, p in preds_jaccard]\n",
        "\n",
        "    preds_adamic = list(nx.adamic_adar_index(G, x_test))\n",
        "    adamic_scores = [p for _, _, p in preds_adamic]\n",
        "\n",
        "    preds_res_alloc = list(nx.resource_allocation_index(G, x_test))\n",
        "    res_alloc_scores = [p for _, _, p in preds_res_alloc]\n",
        "\n",
        "    fpr_jac, tpr_jac, _ = roc_curve(y_test, jaccard_scores)\n",
        "    fpr_adam, tpr_adam, _ = roc_curve(y_test, adamic_scores)\n",
        "    fpr_res, tpr_res, _ = roc_curve(y_test, res_alloc_scores)\n",
        "\n",
        "    return (fpr_jac, tpr_jac), (fpr_adam, tpr_adam), (fpr_res, tpr_res)"
      ],
      "metadata": {
        "id": "VmqyD8Y8WvxS"
      },
      "id": "VmqyD8Y8WvxS",
      "execution_count": 10,
      "outputs": []
    },
    {
      "cell_type": "code",
      "execution_count": 11,
      "id": "774d3c66",
      "metadata": {
        "id": "774d3c66",
        "nbgrader": {
          "checksum": "e3033a917096b4adfdfce88d37eb630e",
          "grade": true,
          "grade_id": "cell-ea34274053a92113",
          "locked": true,
          "points": 2,
          "schema_version": 3,
          "solution": false,
          "task": false
        }
      },
      "outputs": [],
      "source": [
        "jac, adam, res = sim_link_prediction(\n",
        "    train_pos,\n",
        "    [[53, 500], [500, 843], [509, 969], [40, 91], [147, 28], [91, 535], [890, 15]],\n",
        "    [1, 0, 1, 0, 0, 1, 0],\n",
        ")\n",
        "assert jac[0].shape == jac[1].shape\n",
        "assert adam[0].shape == adam[1].shape\n",
        "assert res[0].shape == res[1].shape\n",
        "assert round(auc(jac[0], jac[1]), 4) == 0.5\n",
        "assert round(auc(adam[0], adam[1]), 4) == 0.4167\n",
        "assert round(auc(res[0], res[1]), 4) == 0.4167"
      ]
    },
    {
      "cell_type": "markdown",
      "id": "b34c1a28",
      "metadata": {
        "id": "b34c1a28"
      },
      "source": [
        "Let us look at the ROC AUC curve to compare results."
      ]
    },
    {
      "cell_type": "code",
      "execution_count": 12,
      "id": "c7f81e3a",
      "metadata": {
        "id": "c7f81e3a",
        "colab": {
          "base_uri": "https://localhost:8080/",
          "height": 564
        },
        "outputId": "ecca8b78-028e-4d0f-a569-c0fc912bbb31"
      },
      "outputs": [
        {
          "output_type": "display_data",
          "data": {
            "text/plain": [
              "<Figure size 1000x600 with 1 Axes>"
            ],
            "image/png": "[encoded data removed]"
          },
          "metadata": {}
        }
      ],
      "source": [
        "jac, adam, res = sim_link_prediction(train_pos, x_test, y_test)\n",
        "plt.figure(figsize=(10, 6))\n",
        "cases = [[jac[0], jac[1], 'Jaccard'],\n",
        "         [adam[0], adam[1], 'Adamic-Adar'],\n",
        "         [res[0], res[1], 'Resource alloc.']]\n",
        "for fpr, tpr, label in cases:\n",
        "    plt.plot(fpr, tpr, lw=2,\n",
        "             label='{}, AUC={:.4f}'.format(label, auc(fpr, tpr)))\n",
        "plt.plot([0, 1], [0, 1], lw=2, linestyle='--')\n",
        "plt.xlabel('FPR')\n",
        "plt.ylabel('TPR')\n",
        "plt.title('ROC AUC')\n",
        "plt.legend()\n",
        "plt.show()"
      ]
    },
    {
      "cell_type": "markdown",
      "id": "e73a90a0",
      "metadata": {
        "id": "e73a90a0"
      },
      "source": [
        "### Task 4. Dot product predictor on node embeddings (0 points)"
      ]
    },
    {
      "cell_type": "markdown",
      "id": "8ef46fd7",
      "metadata": {
        "id": "8ef46fd7"
      },
      "source": [
        "Similarly to the node classification task, node embeddings could be helpful in the link prediction problem. We can predict a link if two nodes are similar in latent space. One of simple methods to obtain similarity score is using dot product of node embeddings: $$P(A_{i, j}) \\propto \\langle e_i, e_j \\rangle.$$\n",
        "\n",
        "Here we obtain 16d SVD node embeddings by `sklearn.decompose.TruncatedSVD` on the adjacency matrix."
      ]
    },
    {
      "cell_type": "code",
      "execution_count": 13,
      "id": "4219594d",
      "metadata": {
        "id": "4219594d",
        "colab": {
          "base_uri": "https://localhost:8080/"
        },
        "outputId": "a28aa0b0-143e-40d9-cc9f-7afd571bffde"
      },
      "outputs": [
        {
          "output_type": "execute_result",
          "data": {
            "text/plain": [
              "array([[ 0.77, -0.75, -0.45, ...,  0.26,  0.14, -0.28],\n",
              "       [ 0.04, -0.01, -0.04, ...,  0.02,  0.11,  0.01],\n",
              "       [ 1.83,  0.95,  0.24, ...,  0.51, -0.05, -0.27],\n",
              "       ...,\n",
              "       [ 0.01, -0.  , -0.01, ..., -0.04,  0.02, -0.04],\n",
              "       [ 0.14, -0.05, -0.12, ..., -0.13, -0.02, -0.07],\n",
              "       [ 0.35, -0.3 , -0.37, ...,  0.43,  0.17,  0.14]])"
            ]
          },
          "metadata": {},
          "execution_count": 13
        }
      ],
      "source": [
        "G = nx.Graph()\n",
        "G.add_nodes_from(range(np.max(train_pos) + 1))\n",
        "G.add_edges_from(train_pos)\n",
        "A = nx.to_numpy_array(G)\n",
        "model = TruncatedSVD(n_components=16)\n",
        "emb = model.fit_transform(A)\n",
        "emb.round(2)"
      ]
    },
    {
      "cell_type": "markdown",
      "id": "d8881347",
      "metadata": {
        "id": "d8881347"
      },
      "source": [
        "Write a function `dot_product_prediction` that takes node embeddings, test pairs, returns FPR and TPR for the test pairs."
      ]
    },
    {
      "cell_type": "code",
      "execution_count": 14,
      "id": "47fd96e4",
      "metadata": {
        "id": "47fd96e4",
        "nbgrader": {
          "checksum": "f2eb68405b8b45411bfd09ce363857f9",
          "grade": false,
          "grade_id": "cell-e3728903f481eed8",
          "locked": false,
          "schema_version": 3,
          "solution": true,
          "task": false
        }
      },
      "outputs": [],
      "source": [
        "def dot_product_prediction(emb, x_test, y_test):\n",
        "    ### BEGIN SOLUTION\n",
        "    sim = emb @ emb.T\n",
        "    y_pred = sim[x_test[:, 0], x_test[:, 1]]\n",
        "    fpr, tpr, _ = roc_curve(y_test, y_pred)\n",
        "    return fpr, tpr\n",
        "    ### END SOLUTION"
      ]
    },
    {
      "cell_type": "code",
      "execution_count": 15,
      "id": "fef28703",
      "metadata": {
        "id": "fef28703",
        "nbgrader": {
          "checksum": "6109a9d205365fc16f2d6b5d1cd64cc4",
          "grade": true,
          "grade_id": "cell-d7b6b9f3c20abc71",
          "locked": true,
          "points": 0,
          "schema_version": 3,
          "solution": false,
          "task": false
        }
      },
      "outputs": [],
      "source": [
        "fpr, tpr = dot_product_prediction(np.random.random(emb.shape), x_test, y_test)\n",
        "assert 0.45 < auc(fpr, tpr) < 0.55\n",
        "fpr, tpr = dot_product_prediction(emb, x_test, y_test)\n",
        "assert 0.75 < auc(fpr, tpr) < 0.85"
      ]
    },
    {
      "cell_type": "code",
      "execution_count": 16,
      "id": "f82094e6",
      "metadata": {
        "id": "f82094e6",
        "colab": {
          "base_uri": "https://localhost:8080/",
          "height": 564
        },
        "outputId": "ddfebb52-f6d6-4ddd-d45e-1128fc74b22b"
      },
      "outputs": [
        {
          "output_type": "display_data",
          "data": {
            "text/plain": [
              "<Figure size 1000x600 with 1 Axes>"
            ],
            "image/png": "[encoded data removed]"
          },
          "metadata": {}
        }
      ],
      "source": [
        "plt.figure(figsize=(10, 6))\n",
        "plt.plot(fpr, tpr, lw=2,\n",
        "         label='{}, AUC={:.4f}'.format('Dot prod. on SVD emb.', auc(fpr, tpr)))\n",
        "plt.plot([0, 1], [0, 1], lw=2, linestyle='--')\n",
        "plt.xlabel('FPR')\n",
        "plt.ylabel('TPR')\n",
        "plt.title('ROC AUC')\n",
        "plt.legend()\n",
        "plt.show()"
      ]
    },
    {
      "cell_type": "markdown",
      "id": "1373b22a",
      "metadata": {
        "id": "1373b22a"
      },
      "source": [
        "### Task 5. Classification on edge emdeddings (2 points)"
      ]
    },
    {
      "cell_type": "markdown",
      "id": "3a7288d8",
      "metadata": {
        "id": "3a7288d8"
      },
      "source": [
        "Edge emeddings can be used for edge classification by any supervised algorithm (e.g. logistic regression). We can compute edge embeddings using embeddings of adjacent nodes. Let us compare several techniques of a such calculation from the paper: *Makarov I, Gerasimova O, Sulimov P, Zhukov LE. 2019. Dual network embedding for representing research interests in the link prediction problem on co-authorship networks*. Let us use SVD node embeddings for calculating edge embeddings."
      ]
    },
    {
      "cell_type": "code",
      "execution_count": 17,
      "id": "d97d5135",
      "metadata": {
        "id": "d97d5135",
        "colab": {
          "base_uri": "https://localhost:8080/"
        },
        "outputId": "0104b8be-2dcb-43b2-d130-d0a346a65e2f"
      },
      "outputs": [
        {
          "output_type": "execute_result",
          "data": {
            "text/plain": [
              "array([[ 0.77, -0.75, -0.46,  1.53],\n",
              "       [ 0.04, -0.01, -0.04, -0.03],\n",
              "       [ 1.83,  0.95,  0.24,  0.33],\n",
              "       ...,\n",
              "       [ 0.01, -0.  , -0.01, -0.01],\n",
              "       [ 0.14, -0.05, -0.12, -0.06],\n",
              "       [ 0.35, -0.3 , -0.37,  0.85]])"
            ]
          },
          "metadata": {},
          "execution_count": 17
        }
      ],
      "source": [
        "G = nx.Graph()\n",
        "G.add_nodes_from(range(np.max(train_pos) + 1))\n",
        "G.add_edges_from(train_pos)\n",
        "A = nx.to_numpy_array(G)\n",
        "model = TruncatedSVD(n_components=4, random_state=0)\n",
        "emb = model.fit_transform(A)\n",
        "emb.round(2)"
      ]
    },
    {
      "cell_type": "markdown",
      "id": "d5c0edc7",
      "metadata": {
        "id": "d5c0edc7"
      },
      "source": [
        "All following functions return edge embeddings for given graph, node embeddings, edges. Average operator is the elementwise average of node embeddings.\n",
        "$$\n",
        "\\frac{f(u)+f(v)}{2}\n",
        "$$\n",
        "where $f(u)$, $f(v)$ are node embeddings of nodes $u$ and $v$."
      ]
    },
    {
      "cell_type": "code",
      "execution_count": 18,
      "id": "3fd2589c",
      "metadata": {
        "id": "3fd2589c",
        "nbgrader": {
          "checksum": "58f462d94128ad39168d5c1651115bbc",
          "grade": false,
          "grade_id": "cell-26173c0c479136b7",
          "locked": false,
          "schema_version": 3,
          "solution": true,
          "task": false
        }
      },
      "outputs": [],
      "source": [
        "def average_operator(G, embeddings, edges):\n",
        "    return np.array([(embeddings[u] + embeddings[v]) / 2 for u, v in edges])"
      ]
    },
    {
      "cell_type": "code",
      "execution_count": 19,
      "id": "f19b8244",
      "metadata": {
        "id": "f19b8244",
        "nbgrader": {
          "checksum": "bc61e04094cfdf04d4a4357b8afd1c8f",
          "grade": true,
          "grade_id": "cell-eaefe9963be3c2d0",
          "locked": true,
          "points": 0.29,
          "schema_version": 3,
          "solution": false,
          "task": false
        }
      },
      "outputs": [],
      "source": [
        "assert np.allclose(\n",
        "    average_operator(G, emb, np.array([[42,70]])).round(1),\n",
        "    [[ 0.6, -0.2, -0.3, -0.2]]\n",
        ")"
      ]
    },
    {
      "cell_type": "markdown",
      "id": "2546c16f",
      "metadata": {
        "id": "2546c16f"
      },
      "source": [
        "Hadamard product is the elementwise product of node embeddings $$f(u) \\odot f(v)$$"
      ]
    },
    {
      "cell_type": "code",
      "execution_count": 20,
      "id": "6a201f6c",
      "metadata": {
        "id": "6a201f6c",
        "nbgrader": {
          "checksum": "dca0930cdead56210ac1d3ed38a1da2d",
          "grade": false,
          "grade_id": "cell-f662abe3d0579575",
          "locked": false,
          "schema_version": 3,
          "solution": true,
          "task": false
        }
      },
      "outputs": [],
      "source": [
        "def hadamard_operator(G, embeddings, edges):\n",
        "    return np.array([embeddings[u] * embeddings[v] for u, v in edges])"
      ]
    },
    {
      "cell_type": "code",
      "execution_count": 21,
      "id": "6cef1274",
      "metadata": {
        "id": "6cef1274",
        "nbgrader": {
          "checksum": "440462a8cfd997877c13c9929e7b5772",
          "grade": true,
          "grade_id": "cell-db04660af550adc7",
          "locked": true,
          "points": 0.29,
          "schema_version": 3,
          "solution": false,
          "task": false
        }
      },
      "outputs": [],
      "source": [
        "assert np.allclose(\n",
        "    hadamard_operator(G, emb, np.array([[42,70]])).round(2),\n",
        "    [[0.21, 0.02, 0.09, 0.02]]\n",
        ")"
      ]
    },
    {
      "cell_type": "markdown",
      "id": "1def4bbc",
      "metadata": {
        "id": "1def4bbc"
      },
      "source": [
        "Weighted L1 is the absolute elementwise difference between node embeddings $$\n",
        "\\left|f(u)-f(v)\\right|\n",
        "$$"
      ]
    },
    {
      "cell_type": "code",
      "execution_count": 22,
      "id": "aa4afbde",
      "metadata": {
        "id": "aa4afbde",
        "nbgrader": {
          "checksum": "d6257c4c2eb4680600acc5867ddba862",
          "grade": false,
          "grade_id": "cell-5e44fbdf6a64715d",
          "locked": false,
          "schema_version": 3,
          "solution": true,
          "task": false
        }
      },
      "outputs": [],
      "source": [
        "def weighted_l1_operator(G, embeddings, edges):\n",
        "    return np.array([np.abs(embeddings[u] - embeddings[v]) for u, v in edges])"
      ]
    },
    {
      "cell_type": "code",
      "execution_count": 23,
      "id": "8a2b6148",
      "metadata": {
        "id": "8a2b6148",
        "nbgrader": {
          "checksum": "ec862cd555da0fe6278aa191d0855aff",
          "grade": true,
          "grade_id": "cell-f2c7878af729fcb5",
          "locked": true,
          "points": 0.29,
          "schema_version": 3,
          "solution": false,
          "task": false
        }
      },
      "outputs": [],
      "source": [
        "assert np.allclose(\n",
        "    weighted_l1_operator(G, emb, np.array([[42,70]])).round(2),\n",
        "    [[0.88, 0.12, 0.28, 0.17]]\n",
        ")"
      ]
    },
    {
      "cell_type": "markdown",
      "id": "a8576fe4",
      "metadata": {
        "id": "a8576fe4"
      },
      "source": [
        "Weighted L2 is the squared elementwise difference between node embeddings $$\n",
        "\\left(f(u)-f(v)\\right)^{2}\n",
        "$$"
      ]
    },
    {
      "cell_type": "code",
      "execution_count": 24,
      "id": "4115b0d2",
      "metadata": {
        "id": "4115b0d2",
        "nbgrader": {
          "checksum": "c81ca1cb9941e2216cb755dcb6b1d6df",
          "grade": false,
          "grade_id": "cell-0f7f5b3663337374",
          "locked": false,
          "schema_version": 3,
          "solution": true,
          "task": false
        }
      },
      "outputs": [],
      "source": [
        "def weighted_l2_operator(G, embeddings, edges):\n",
        "    return np.array([(embeddings[u] - embeddings[v])**2 for u, v in edges])"
      ]
    },
    {
      "cell_type": "code",
      "execution_count": 25,
      "id": "a20d06eb",
      "metadata": {
        "id": "a20d06eb",
        "nbgrader": {
          "checksum": "1e6fb9bbeff70f61d8b1c3974464baee",
          "grade": true,
          "grade_id": "cell-957e1faea3e9127d",
          "locked": true,
          "points": 0.29,
          "schema_version": 3,
          "solution": false,
          "task": false
        }
      },
      "outputs": [],
      "source": [
        "assert np.allclose(\n",
        "    weighted_l2_operator(G, emb, np.array([[42,70]])).round(2),\n",
        "    [[0.77, 0.01, 0.08, 0.03]]\n",
        ")"
      ]
    },
    {
      "cell_type": "markdown",
      "id": "2215b233",
      "metadata": {
        "id": "2215b233"
      },
      "source": [
        "Neighbor weighted L1 is the absolute elementwise difference between mean embeddings of nodes neigbors $$\n",
        "\\left|\\frac{\\sum_{w \\in N(u) \\cup\\{u\\}} f(w)}{|N(u)|+1}-\\frac{\\sum_{t \\in N(v) \\cup\\{v\\}} f(t)}{|N(v)|+1}\\right|\n",
        "$$"
      ]
    },
    {
      "cell_type": "code",
      "execution_count": 26,
      "id": "c44b5cdc",
      "metadata": {
        "id": "c44b5cdc",
        "nbgrader": {
          "checksum": "91862e3967ecf48894e45a0adf8af354",
          "grade": false,
          "grade_id": "cell-9663ec4df9dbb751",
          "locked": false,
          "schema_version": 3,
          "solution": true,
          "task": false
        }
      },
      "outputs": [],
      "source": [
        "def mean_embedding(G, embeddings, node):\n",
        "    neighbors = list(G.neighbors(node)) + [node]\n",
        "    return np.mean(embeddings[neighbors], axis=0)\n",
        "\n",
        "def neighbor_weighted_l1_operator(G, embeddings, edges):\n",
        "    results = []\n",
        "    for u, v in edges:\n",
        "        mean_u = mean_embedding(G, embeddings, u)\n",
        "        mean_v = mean_embedding(G, embeddings, v)\n",
        "        results.append(np.abs(mean_u - mean_v))\n",
        "    return np.array(results)"
      ]
    },
    {
      "cell_type": "code",
      "execution_count": 27,
      "id": "3b3f4f00",
      "metadata": {
        "id": "3b3f4f00",
        "nbgrader": {
          "checksum": "1cbefe98af2a1b6b2376f799b866d939",
          "grade": true,
          "grade_id": "cell-fe7f124fa265373c",
          "locked": true,
          "points": 0.29,
          "schema_version": 3,
          "solution": false,
          "task": false
        }
      },
      "outputs": [],
      "source": [
        "\n",
        "assert np.allclose(\n",
        "    neighbor_weighted_l1_operator(G, emb, np.array([[42,70]])).round(2),\n",
        "    [[1.89, 0.14, 0.3 , 0.18]]\n",
        ")"
      ]
    },
    {
      "cell_type": "markdown",
      "id": "8cf7ba52",
      "metadata": {
        "id": "8cf7ba52"
      },
      "source": [
        "Neighbor weighted L2 is the squared elementwise difference between mean embeddings of nodes neigbors\n",
        "$$\n",
        "\\left(\\frac{\\sum_{w \\in N(u) \\cup\\{u\\}} f(w)}{|N(u)|+1}-\\frac{\\sum_{t \\in N(v) \\cup\\{v\\}} f(t)}{|N(v)|+1}\\right)^{2}\n",
        "$$"
      ]
    },
    {
      "cell_type": "code",
      "execution_count": 28,
      "id": "b8bf1522",
      "metadata": {
        "id": "b8bf1522",
        "nbgrader": {
          "checksum": "6fe87475999a79b39066260f060f80ca",
          "grade": false,
          "grade_id": "cell-cb55782d381636cd",
          "locked": false,
          "schema_version": 3,
          "solution": true,
          "task": false
        }
      },
      "outputs": [],
      "source": [
        "def neighbor_weighted_l2_operator(G, embeddings, edges):\n",
        "    results = []\n",
        "    for u, v in edges:\n",
        "        mean_u = mean_embedding(G, embeddings, u)\n",
        "        mean_v = mean_embedding(G, embeddings, v)\n",
        "        results.append((mean_u - mean_v) ** 2)\n",
        "    return np.array(results)"
      ]
    },
    {
      "cell_type": "code",
      "execution_count": 29,
      "id": "288a995c",
      "metadata": {
        "id": "288a995c",
        "nbgrader": {
          "checksum": "4ae389acc9d3af30a4e104f746d1f56f",
          "grade": true,
          "grade_id": "cell-b3ea740a7d8e7422",
          "locked": true,
          "points": 0.29,
          "schema_version": 3,
          "solution": false,
          "task": false
        }
      },
      "outputs": [],
      "source": [
        "assert np.allclose(\n",
        "    neighbor_weighted_l2_operator(G, emb, np.array([[42,70]])).round(2),\n",
        "    [[3.58, 0.02, 0.09, 0.03]]\n",
        ")"
      ]
    },
    {
      "cell_type": "markdown",
      "id": "908c3290",
      "metadata": {
        "id": "908c3290"
      },
      "source": [
        "Now let us look at the ROC AUC for different operators on 16d SVD nome embeddings."
      ]
    },
    {
      "cell_type": "code",
      "execution_count": 30,
      "id": "d5c0b55d",
      "metadata": {
        "id": "d5c0b55d",
        "nbgrader": {
          "grade": true,
          "grade_id": "cell-a5776c997347476f",
          "locked": true,
          "points": 0.26,
          "schema_version": 3,
          "solution": false,
          "task": false
        }
      },
      "outputs": [],
      "source": [
        "model = TruncatedSVD(n_components=16, random_state=0)\n",
        "emb = model.fit_transform(A)\n",
        "\n",
        "operators = {\n",
        "    \"Average\": average_operator,\n",
        "    \"Hadamard product\": hadamard_operator,\n",
        "    \"Weighted L1\": weighted_l1_operator,\n",
        "    \"Weighted L2\": weighted_l2_operator,\n",
        "    \"Neighbor weighted L1\": neighbor_weighted_l1_operator,\n",
        "    \"Neighbor weighted L2\": neighbor_weighted_l2_operator\n",
        "}\n",
        "\n",
        "res = dict()\n",
        "for name, operator in operators.items():\n",
        "    lr = LogisticRegression()\n",
        "    train_emb = operator(G, emb, x_train)\n",
        "    lr.fit(train_emb, y_train)\n",
        "    test_emb = operator(G, emb, x_test)\n",
        "    y_pred = lr.predict_proba(test_emb)[:, 1]\n",
        "    fpr, tpr, _ = roc_curve(y_test, y_pred)\n",
        "    res[name] = {\n",
        "        'fpr': fpr,\n",
        "        'tpr': tpr\n",
        "    }\n",
        "\n",
        "assert auc(fpr, tpr) > 0.75"
      ]
    },
    {
      "cell_type": "code",
      "execution_count": 31,
      "id": "0859697f",
      "metadata": {
        "id": "0859697f",
        "colab": {
          "base_uri": "https://localhost:8080/",
          "height": 564
        },
        "outputId": "48d5b241-fffd-422b-ffba-3b5a09e024c4"
      },
      "outputs": [
        {
          "output_type": "display_data",
          "data": {
            "text/plain": [
              "<Figure size 1000x600 with 1 Axes>"
            ],
            "image/png": "[encoded data removed]"
          },
          "metadata": {}
        }
      ],
      "source": [
        "plt.figure(figsize=(10, 6))\n",
        "for label, v in res.items():\n",
        "    fpr, tpr = v['fpr'], v['tpr']\n",
        "    plt.plot(fpr, tpr, lw=2,\n",
        "             label='{}, AUC={:.4f}'.format(label, auc(fpr, tpr)))\n",
        "plt.plot([0, 1], [0, 1], lw=2, linestyle='--')\n",
        "plt.xlabel('FPR')\n",
        "plt.ylabel('TPR')\n",
        "plt.title('ROC AUC')\n",
        "plt.legend()\n",
        "plt.show()"
      ]
    },
    {
      "cell_type": "markdown",
      "id": "68001765",
      "metadata": {
        "id": "68001765"
      },
      "source": [
        "### CORA dataset"
      ]
    },
    {
      "cell_type": "code",
      "execution_count": 32,
      "id": "8217ac0c",
      "metadata": {
        "id": "8217ac0c"
      },
      "outputs": [],
      "source": [
        "# !pip install dgl==1.0.1 dglgo -f https://data.dgl.ai/wheels/repo.html -q"
      ]
    },
    {
      "cell_type": "code",
      "execution_count": 33,
      "id": "97f7e59c",
      "metadata": {
        "id": "97f7e59c"
      },
      "outputs": [],
      "source": [
        "import matplotlib.pyplot as plt\n",
        "import torch\n",
        "import torch.nn as nn\n",
        "import torch.nn.functional as F\n",
        "from torch.optim import Adam\n",
        "import numpy as np\n",
        "from tqdm.notebook import trange\n",
        "from sklearn.metrics import balanced_accuracy_score\n",
        "from sklearn.linear_model import LogisticRegression\n",
        "from sklearn.manifold import TSNE\n",
        "\n",
        "import dgl\n",
        "from dgl.data import CoraGraphDataset\n",
        "from dgl import function as fn\n",
        "from dgl.nn import SAGEConv"
      ]
    },
    {
      "cell_type": "code",
      "execution_count": 34,
      "id": "b9a52628",
      "metadata": {
        "id": "b9a52628"
      },
      "outputs": [],
      "source": [
        "import warnings\n",
        "warnings.filterwarnings(action='ignore', category=UserWarning)\n",
        "warnings.simplefilter(action='ignore', category=FutureWarning)"
      ]
    },
    {
      "cell_type": "markdown",
      "id": "6f992762",
      "metadata": {
        "id": "6f992762"
      },
      "source": [
        "The Cora dataset consists of 2708 scientific publications classified into one of seven classes. The citation network consists of 10556/2 links. Let us take a closer look at this dataset. Each publication in the dataset is described by a 0/1-valued word vector indicating the absence/presence of the corresponding word from the dictionary. The dictionary consists of 1433 unique words."
      ]
    },
    {
      "cell_type": "code",
      "execution_count": 35,
      "id": "3876dd0c",
      "metadata": {
        "id": "3876dd0c",
        "colab": {
          "base_uri": "https://localhost:8080/"
        },
        "outputId": "30bd0d2b-3e17-4966-a2f0-c62dd5ce48d2"
      },
      "outputs": [
        {
          "output_type": "stream",
          "name": "stdout",
          "text": [
            "Finished data loading and preprocessing.\n",
            "  NumNodes: 2708\n",
            "  NumEdges: 10556\n",
            "  NumFeats: 1433\n",
            "  NumClasses: 7\n",
            "  NumTrainingSamples: 140\n",
            "  NumValidationSamples: 500\n",
            "  NumTestSamples: 1000\n",
            "Done saving data into cached files.\n"
          ]
        }
      ],
      "source": [
        "data = CoraGraphDataset(force_reload=True)"
      ]
    },
    {
      "cell_type": "code",
      "execution_count": 36,
      "id": "60459d90",
      "metadata": {
        "id": "60459d90",
        "colab": {
          "base_uri": "https://localhost:8080/"
        },
        "outputId": "43113c7c-e19c-4784-ad54-0355d963b1d4"
      },
      "outputs": [
        {
          "output_type": "execute_result",
          "data": {
            "text/plain": [
              "Graph(num_nodes=2708, num_edges=10556,\n",
              "      ndata_schemes={'train_mask': Scheme(shape=(), dtype=torch.bool), 'val_mask': Scheme(shape=(), dtype=torch.bool), 'test_mask': Scheme(shape=(), dtype=torch.bool), 'label': Scheme(shape=(), dtype=torch.int64), 'feat': Scheme(shape=(1433,), dtype=torch.float32)}\n",
              "      edata_schemes={})"
            ]
          },
          "metadata": {},
          "execution_count": 36
        }
      ],
      "source": [
        "graph = data[0]\n",
        "graph"
      ]
    },
    {
      "cell_type": "markdown",
      "id": "8e97b108",
      "metadata": {
        "id": "8e97b108"
      },
      "source": [
        "Adjacency matrix can be obtained as follows"
      ]
    },
    {
      "cell_type": "code",
      "execution_count": 37,
      "id": "2cc92084",
      "metadata": {
        "id": "2cc92084",
        "colab": {
          "base_uri": "https://localhost:8080/"
        },
        "outputId": "597201dc-a416-4e66-cb31-61157fb094a1"
      },
      "outputs": [
        {
          "output_type": "execute_result",
          "data": {
            "text/plain": [
              "tensor([[0., 0., 0.,  ..., 0., 0., 0.],\n",
              "        [0., 0., 1.,  ..., 0., 0., 0.],\n",
              "        [0., 1., 0.,  ..., 0., 0., 0.],\n",
              "        ...,\n",
              "        [0., 0., 0.,  ..., 0., 0., 0.],\n",
              "        [0., 0., 0.,  ..., 0., 0., 1.],\n",
              "        [0., 0., 0.,  ..., 0., 1., 0.]])"
            ]
          },
          "metadata": {},
          "execution_count": 37
        }
      ],
      "source": [
        "adj = graph.adj().to_dense()\n",
        "adj"
      ]
    },
    {
      "cell_type": "markdown",
      "id": "613d60e2",
      "metadata": {
        "id": "613d60e2"
      },
      "source": [
        "Feature matrix is stored in node features `feat`."
      ]
    },
    {
      "cell_type": "code",
      "execution_count": 38,
      "id": "ffe904f8",
      "metadata": {
        "id": "ffe904f8",
        "scrolled": true,
        "colab": {
          "base_uri": "https://localhost:8080/"
        },
        "outputId": "8c03f203-f1e0-4567-9ede-ee9254d3b5cf"
      },
      "outputs": [
        {
          "output_type": "stream",
          "name": "stdout",
          "text": [
            "torch.Size([2708, 1433])\n"
          ]
        },
        {
          "output_type": "execute_result",
          "data": {
            "text/plain": [
              "tensor([[0., 0., 0.,  ..., 0., 0., 0.],\n",
              "        [0., 0., 0.,  ..., 0., 0., 0.],\n",
              "        [0., 0., 0.,  ..., 0., 0., 0.],\n",
              "        ...,\n",
              "        [0., 0., 0.,  ..., 0., 0., 0.],\n",
              "        [0., 0., 0.,  ..., 0., 0., 0.],\n",
              "        [0., 0., 0.,  ..., 0., 0., 0.]])"
            ]
          },
          "metadata": {},
          "execution_count": 38
        }
      ],
      "source": [
        "feat = graph.ndata['feat']\n",
        "print(feat.shape)\n",
        "feat"
      ]
    },
    {
      "cell_type": "markdown",
      "id": "a22e2f36",
      "metadata": {
        "id": "a22e2f36"
      },
      "source": [
        "In DGL, Cora feature matrix are normalized so that the sum per row is 1. Labels are represent type of the publication, they are stored in `label`."
      ]
    },
    {
      "cell_type": "code",
      "execution_count": 39,
      "id": "9c85b87c",
      "metadata": {
        "id": "9c85b87c",
        "colab": {
          "base_uri": "https://localhost:8080/"
        },
        "outputId": "0d47694d-d0f1-43e3-b994-138349098556"
      },
      "outputs": [
        {
          "output_type": "execute_result",
          "data": {
            "text/plain": [
              "tensor([3, 4, 4,  ..., 3, 3, 3])"
            ]
          },
          "metadata": {},
          "execution_count": 39
        }
      ],
      "source": [
        "label = graph.ndata['label']\n",
        "label"
      ]
    },
    {
      "cell_type": "markdown",
      "id": "8ffdf1c0",
      "metadata": {
        "id": "8ffdf1c0"
      },
      "source": [
        "Here are train, validation and test masks."
      ]
    },
    {
      "cell_type": "code",
      "execution_count": 40,
      "id": "a0cb7ad4",
      "metadata": {
        "id": "a0cb7ad4",
        "colab": {
          "base_uri": "https://localhost:8080/"
        },
        "outputId": "e0260993-55d9-45e0-ffc6-171195074251"
      },
      "outputs": [
        {
          "output_type": "execute_result",
          "data": {
            "text/plain": [
              "(tensor([False, False, False,  ..., False, False, False]),\n",
              " tensor([ True,  True,  True,  ..., False, False, False]),\n",
              " tensor([False, False, False,  ...,  True,  True,  True]))"
            ]
          },
          "metadata": {},
          "execution_count": 40
        }
      ],
      "source": [
        "train_mask = graph.ndata['train_mask']\n",
        "val_mask = graph.ndata['val_mask']\n",
        "test_mask = graph.ndata['test_mask']\n",
        "val_mask, train_mask, test_mask"
      ]
    },
    {
      "cell_type": "markdown",
      "id": "9405a6b9",
      "metadata": {
        "id": "9405a6b9"
      },
      "source": [
        "### Task 6. Graph convolution as matrix product (2 points)"
      ]
    },
    {
      "cell_type": "markdown",
      "id": "ddc79913",
      "metadata": {
        "id": "ddc79913"
      },
      "source": [
        "Graph convolutional network (GCN) was proposed in [[1]](#references) and defined on an undirected graph as the following propagation rule:\n",
        "\n",
        "$$H^{(l)}=\\sigma\\left(\\tilde D^{-1 / 2} \\tilde A \\tilde D^{-1 / 2} H^{(l-1)} W^{(l)}\\right)$$\n",
        "\n",
        "where $\\tilde A = A + I_N$ is the adjacency matrix with added self-connections. $I_N$ is the identity matrix, $\\tilde D_{ii} = \\sum_j \\tilde A_{ij}$ is the degree matrix and $W^{(l)}$ is trainable matrix at the layer $l$. $\\sigma$ represents non-linear activation function such as ReLU. $H^{(l)}$ is the hidden states at the layer $l$ and $H^{(0)} = X$ is the initial feature matrix.\n",
        "\n",
        "Write a class `GCNMatrixProductLayer` that takes adjacency matrix, hidden states and returns the next hidden states before activation."
      ]
    },
    {
      "cell_type": "code",
      "execution_count": 41,
      "id": "7ff5b791",
      "metadata": {
        "id": "7ff5b791",
        "nbgrader": {
          "grade": false,
          "grade_id": "cell-b71f48a8f9c231a0",
          "locked": false,
          "schema_version": 3,
          "solution": true,
          "task": false
        }
      },
      "outputs": [],
      "source": [
        "class GCNMatrixProductLayer(nn.Module):\n",
        "    def __init__(self, in_dim, out_dim):\n",
        "        super().__init__()\n",
        "        self.dense = nn.Linear(in_dim, out_dim)\n",
        "\n",
        "    def forward(self, adj, h):\n",
        "        _adj = adj + torch.eye(adj.size(0), device=adj.device)\n",
        "        deg = torch.diag(torch.pow(_adj.sum(dim=1), -0.5))\n",
        "        normalized_adj = deg @ _adj @ deg\n",
        "        h = self.dense(h)\n",
        "        h = normalized_adj @ h\n",
        "        return h"
      ]
    },
    {
      "cell_type": "code",
      "execution_count": 42,
      "id": "904fa061",
      "metadata": {
        "id": "904fa061",
        "nbgrader": {
          "grade": true,
          "grade_id": "cell-59516dd351a3b233",
          "locked": true,
          "points": 0.67,
          "schema_version": 3,
          "solution": false,
          "task": false
        }
      },
      "outputs": [],
      "source": [
        "layer = GCNMatrixProductLayer(in_dim=2708, out_dim=10)\n",
        "with torch.no_grad():\n",
        "    layer.dense.weight.fill_(0.1)\n",
        "    layer.dense.bias.fill_(0.1)\n",
        "    h = layer(adj, torch.eye(2708))\n",
        "assert round(h[0, 0].item(), 2) == 0.19"
      ]
    },
    {
      "cell_type": "markdown",
      "id": "1b041722",
      "metadata": {
        "id": "1b041722"
      },
      "source": [
        "Write a class `GCNMatrixProduct` that takes the adjacency matrix and feature matrix and performs two-layer convolution with intermediate ReLU activation. The class initialized by input, hidden and output dimensions."
      ]
    },
    {
      "cell_type": "code",
      "execution_count": 43,
      "id": "1c9ef4e4",
      "metadata": {
        "id": "1c9ef4e4",
        "nbgrader": {
          "grade": false,
          "grade_id": "cell-5cecc368828015e4",
          "locked": false,
          "schema_version": 3,
          "solution": true,
          "task": false
        }
      },
      "outputs": [],
      "source": [
        "class GCNMatrixProduct(nn.Module):\n",
        "    def __init__(self, in_dim, hid_dim, out_dim):\n",
        "        super().__init__()\n",
        "        ### BEGIN SOLUTION\n",
        "        self.conv1 = GCNMatrixProductLayer(in_dim, hid_dim)\n",
        "        self.conv2 = GCNMatrixProductLayer(hid_dim, out_dim)\n",
        "        ### END SOLUTION\n",
        "    def forward(self, adj, feat):\n",
        "        ### BEGIN SOLUTION\n",
        "        h = F.relu(self.conv1(adj, feat))\n",
        "        h = self.conv2(adj, h)\n",
        "        return h\n",
        "        ### END SOLUTION"
      ]
    },
    {
      "cell_type": "code",
      "execution_count": 44,
      "id": "13b3e790",
      "metadata": {
        "nbgrader": {
          "grade": true,
          "grade_id": "cell-13a9aa3e489245ee",
          "locked": true,
          "points": 0.67,
          "schema_version": 3,
          "solution": false,
          "task": false
        },
        "id": "13b3e790"
      },
      "outputs": [],
      "source": [
        "model = GCNMatrixProduct(2708, 32, 7)\n",
        "logits = model(adj, torch.eye(2708))\n",
        "assert logits.shape == (2708, 7)\n",
        "assert logits.min() < 0"
      ]
    },
    {
      "cell_type": "markdown",
      "id": "217ab100",
      "metadata": {
        "id": "217ab100"
      },
      "source": [
        "Let us create the two-layer GCN for node classification task."
      ]
    },
    {
      "cell_type": "code",
      "execution_count": 45,
      "id": "a83c6c89",
      "metadata": {
        "id": "a83c6c89"
      },
      "outputs": [],
      "source": [
        "model = GCNMatrixProduct(1433, 32, 7)\n",
        "opt = torch.optim.Adam(model.parameters(), lr=0.01)\n",
        "log = []"
      ]
    },
    {
      "cell_type": "markdown",
      "id": "0569ff05",
      "metadata": {
        "id": "0569ff05"
      },
      "source": [
        "We train the model in semi-supervised setting: propagate information over the full graph, but optimize it by only train cross-entropy loss."
      ]
    },
    {
      "cell_type": "code",
      "execution_count": 46,
      "id": "e2e7d012",
      "metadata": {
        "id": "e2e7d012",
        "colab": {
          "base_uri": "https://localhost:8080/",
          "height": 484,
          "referenced_widgets": [
            "455be7669b354a549b7c3f370f4b8868",
            "25e8b57c0bbf48e6b137aec4bcca029f",
            "7a73d2c93bb246108c7958fad8fe075b",
            "114ecc37886d4f9c93c80fa208c5c8da",
            "fe7b7a24495340798b1a96c0c28d4fbe",
            "cde914ab6bc347afb377f0a17ebe8232",
            "59c5de8638954d2588ad5ff682245240",
            "a9269989e95449228bddba7223b8e6a0",
            "0b612cfcc5ac4bc38402c8729c22e7ac",
            "fc6ef00ba8444216ab2fc3ae10b01fa7",
            "f9070df3967d4c91b00c81effbf0e646"
          ]
        },
        "outputId": "eebc9464-e065-42ec-825b-5caa8cb85760"
      },
      "outputs": [
        {
          "output_type": "display_data",
          "data": {
            "text/plain": [
              "  0%|          | 0/200 [00:00<?, ?it/s]"
            ],
            "application/vnd.jupyter.widget-view+json": {
              "version_major": 2,
              "version_minor": 0,
              "model_id": "455be7669b354a549b7c3f370f4b8868"
            }
          },
          "metadata": {}
        },
        {
          "output_type": "display_data",
          "data": {
            "text/plain": [
              "<Figure size 640x480 with 1 Axes>"
            ],
            "image/png": "[encoded data removed]"
          },
          "metadata": {}
        }
      ],
      "source": [
        "n_epochs = 200\n",
        "for i in trange(n_epochs):\n",
        "\n",
        "    logits = model(adj, feat)\n",
        "    train_loss = F.cross_entropy(logits[train_mask], label[train_mask])\n",
        "\n",
        "    opt.zero_grad()\n",
        "    train_loss.backward()\n",
        "    opt.step()\n",
        "\n",
        "    with torch.no_grad():\n",
        "        val_loss = F.cross_entropy(logits[val_mask], label[val_mask])\n",
        "\n",
        "    log.append([train_loss.item(), val_loss.item()])\n",
        "\n",
        "plt.plot(np.array(log))\n",
        "plt.title('Loss')\n",
        "plt.legend(['train', 'val'])\n",
        "plt.show()"
      ]
    },
    {
      "cell_type": "markdown",
      "id": "9e222fe4",
      "metadata": {
        "id": "9e222fe4"
      },
      "source": [
        "We evaluate the model by balanced accuracy that accounts for inbalanced classes."
      ]
    },
    {
      "cell_type": "code",
      "execution_count": 47,
      "id": "7945090a",
      "metadata": {
        "id": "7945090a",
        "nbgrader": {
          "grade": true,
          "grade_id": "cell-d77d156cd37bfe99",
          "locked": true,
          "points": 0.6599999999999999,
          "schema_version": 3,
          "solution": false,
          "task": false
        },
        "colab": {
          "base_uri": "https://localhost:8080/"
        },
        "outputId": "4bb7eadf-9258-4ecb-b8de-9f38f50a5ac0"
      },
      "outputs": [
        {
          "output_type": "stream",
          "name": "stdout",
          "text": [
            "Balanced accuracy: 0.80\n"
          ]
        }
      ],
      "source": [
        "with torch.no_grad():\n",
        "    logits = model(adj, feat)\n",
        "y_pred = torch.argmax(logits[test_mask], 1)\n",
        "score = balanced_accuracy_score(label[test_mask], y_pred)\n",
        "assert score > 0.7\n",
        "print(f'Balanced accuracy: {score:.2f}')"
      ]
    },
    {
      "cell_type": "markdown",
      "id": "10cb4a8e",
      "metadata": {
        "id": "10cb4a8e"
      },
      "source": [
        "### Task 7. Graph convolution as message passing (0 points)"
      ]
    },
    {
      "cell_type": "markdown",
      "id": "d23ffa87",
      "metadata": {
        "id": "d23ffa87"
      },
      "source": [
        "The original GCN is computationally expensive for large graphs since it requires to compute matrix product $\\tilde D^{-1 / 2} \\tilde A \\tilde D^{-1 / 2} H^{l}$, that costs $O(|V|^2)$. However, the information is propagated along edges, the number of which is linearly depends on the number of nodes in scale-free networks, that is $O(|V|)$. Message passing framework was proposed in [[2]](#references) to reduce computation costs by representing a graph neural network's layer as the composition of two functions:\n",
        "\n",
        "$$m_{ij}^l = \\text{Message}\\left(h_i^{l-1}, h_j^{l-1}\\right)$$\n",
        "$$h_i^l = \\text{Reduce}_{j \\in \\mathcal{N}_\\text{in}(i)}\\left(m_{ji}^l\\right)$$\n",
        "\n",
        "where $\\text{Message}(\\cdot)$ is the message function that applied on each edges in the graph and stores computed values (messages) on edges. $\\text{Reduce}_{j \\in \\mathcal{N}_\\text{in}(i)}(\\cdot)$ is the reduce (aka aggregation, reduction) function that applied on each node and aggregates messages from incoming links (mailboxes).\n",
        "\n",
        "<img src='https://raw.githubusercontent.com/netspractice/network-science/main/images/messpass.png' width=600>\n",
        "\n",
        "In particular, GCN can be represented as follows:\n",
        "\n",
        "$$h_i^l = \\sigma \\left(W^l \\sum_{j \\in \\mathcal{N}_\\text{in}(i)}\\frac{h_j^{l-1}}{\\sqrt{|\\mathcal{N}_\\text{in}(j)||\\mathcal{N}_\\text{in}(i)|}}\\right)$$\n",
        "\n",
        "where the message function\n",
        "\n",
        "$$m_{ji}^l = \\frac{W^l h_j^{l-1}}{\\sqrt{|\\mathcal{N}_\\text{in}(j)|}}$$\n",
        "\n",
        "is the transformed source node's hidden state normalized by the in-degree of the source node. The reduce function\n",
        "\n",
        "$$h_i^l = \\sigma \\left(\\frac{\\sum_{j \\in \\mathcal{N}_\\text{in}(i)} m_{ji}^l}{\\sqrt{|\\mathcal{N}_\\text{in}(i)|}}\\right)$$\n",
        "\n",
        "is the sum over all incoming neighbors' hidden states with in-degree normalization and subsequent activation $\\sigma$. Here we assume that the graph includes self-connections, that is a node is in its neighborhood. We also assume that the graph is equivalent to its undirected representation, that is $A = A^\\top$.\n",
        "\n",
        "In DGL, message passing is applied by `graph.update_all(message_func, reduce_func)` where `message_func` is defined on edges and `reduce_func` on nodes. DGL contains built-in message and reduce functions, but it is also possible to define your own functions. GCN can be implemented using following functions:\n",
        "* message function `fn.copy_src(src='h', out='m')` copies the source node feature `h` into the mailbox `m`\n",
        "* reduce function `fn.sum(msg='m', out='h')` sums messages from mailboxes `m` and save the result into the node feature `h`\n",
        "\n",
        "Write a class `GCNMessagePassingLayer` that takes a graph, hidden states and returns the next hidden states before activation.\n",
        "\n",
        "*Hints:*\n",
        "* _adding node features is similar to adding values to a dictionary: `graph.ndata['h'] = h`_\n",
        "* _in-degrees can be computed by `graph.in_degrees()`_\n",
        "\n",
        "*Remark: `graph.local_scope()` makes all operations isolated from the original graphs.*"
      ]
    },
    {
      "cell_type": "code",
      "execution_count": 48,
      "id": "f5984036",
      "metadata": {
        "id": "f5984036",
        "nbgrader": {
          "grade": false,
          "grade_id": "cell-7e663cf5c1afa659",
          "locked": false,
          "schema_version": 3,
          "solution": true,
          "task": false
        }
      },
      "outputs": [],
      "source": [
        "class GCNMessagePassingLayer(nn.Module):\n",
        "    def __init__(self, in_dim, out_dim):\n",
        "        super().__init__()\n",
        "        self.dense = nn.Linear(in_dim, out_dim)\n",
        "    def forward(self, graph, h):\n",
        "        with graph.local_scope():\n",
        "            graph = graph.add_self_loop()\n",
        "            ### BEGIN SOLUTION\n",
        "            norm = graph.in_degrees()[:, None]**-0.5\n",
        "            h = self.dense(h)\n",
        "            h = h * norm\n",
        "            graph.ndata['h'] = h\n",
        "            graph.update_all(\n",
        "                fn.copy_u(u='h', out='m'),\n",
        "                fn.sum(msg='m', out='h')\n",
        "            )\n",
        "            h = graph.ndata['h']\n",
        "            h = h * norm\n",
        "            return h\n",
        "            ### END SOLUTION"
      ]
    },
    {
      "cell_type": "code",
      "execution_count": 49,
      "id": "5d8f0c5f",
      "metadata": {
        "id": "5d8f0c5f",
        "nbgrader": {
          "grade": true,
          "grade_id": "cell-b7b8314f51fe4d0f",
          "locked": true,
          "points": 0,
          "schema_version": 3,
          "solution": false,
          "task": false
        }
      },
      "outputs": [],
      "source": [
        "layer = GCNMessagePassingLayer(in_dim=2708, out_dim=10)\n",
        "with torch.no_grad():\n",
        "    layer.dense.weight.fill_(0.1)\n",
        "    layer.dense.bias.fill_(0.1)\n",
        "    h = layer(graph, torch.eye(2708))\n",
        "assert round(h[0, 0].item(), 2) == 0.19"
      ]
    },
    {
      "cell_type": "markdown",
      "id": "5fa85c8d",
      "metadata": {
        "id": "5fa85c8d"
      },
      "source": [
        "Write a class `GCNMessagePassing` that takes the graph and feature matrix and performs two-layer convolution with intermediate ReLU activation. The class initialized by input, hidden and output dimensions."
      ]
    },
    {
      "cell_type": "code",
      "execution_count": 50,
      "id": "c5391849",
      "metadata": {
        "id": "c5391849",
        "nbgrader": {
          "grade": false,
          "grade_id": "cell-0e8fb3b6e5858162",
          "locked": false,
          "schema_version": 3,
          "solution": true,
          "task": false
        }
      },
      "outputs": [],
      "source": [
        "class GCNMessagePassing(nn.Module):\n",
        "    def __init__(self, in_dim, hid_dim, out_dim):\n",
        "        super().__init__()\n",
        "        ### BEGIN SOLUTION\n",
        "        self.conv1 = GCNMessagePassingLayer(in_dim, hid_dim)\n",
        "        self.conv2 = GCNMessagePassingLayer(hid_dim, out_dim)\n",
        "        ### END SOLUTION\n",
        "    def forward(self, graph, feat):\n",
        "        ### BEGIN SOLUTION\n",
        "        h = F.relu(self.conv1(graph, feat))\n",
        "        h = self.conv2(graph, h)\n",
        "        return h\n",
        "        ### END SOLUTION"
      ]
    },
    {
      "cell_type": "code",
      "execution_count": 51,
      "id": "f6c274e7",
      "metadata": {
        "nbgrader": {
          "grade": true,
          "grade_id": "cell-bbdfaaf84f5f19cf",
          "locked": true,
          "points": 0,
          "schema_version": 3,
          "solution": false,
          "task": false
        },
        "id": "f6c274e7"
      },
      "outputs": [],
      "source": [
        "model = GCNMessagePassing(2708, 32, 7)\n",
        "logits = model(graph, torch.eye(2708))\n",
        "assert logits.shape == (2708, 7)\n",
        "assert logits.min() < 0"
      ]
    },
    {
      "cell_type": "code",
      "execution_count": 52,
      "id": "7b8332d3",
      "metadata": {
        "id": "7b8332d3"
      },
      "outputs": [],
      "source": [
        "model = GCNMessagePassing(in_dim=1433, hid_dim=32, out_dim=7)\n",
        "opt = Adam(model.parameters(), lr=0.01)\n",
        "log = []"
      ]
    },
    {
      "cell_type": "markdown",
      "id": "8712d82d",
      "metadata": {
        "id": "8712d82d"
      },
      "source": [
        "We train the model in semi-supervised setting: propagate information over the full graph, but optimize it by only train cross-entropy loss."
      ]
    },
    {
      "cell_type": "code",
      "execution_count": 53,
      "id": "628bc120",
      "metadata": {
        "id": "628bc120",
        "colab": {
          "base_uri": "https://localhost:8080/",
          "height": 484,
          "referenced_widgets": [
            "f21968d385c749e79c8165e0eeb407c2",
            "79e971f5bcf44b4695f5f2f2ea26c7df",
            "ad572612da974f7e86d094e2fa717038",
            "1287be8b07234b8e86c3e491a417786f",
            "cd7f172da423432099a9e6ec99ebfb29",
            "dd78e0834a0c43a5b1a243ccae89a533",
            "f77579f8fd124f6db9358086624d6754",
            "f47237acc93a4945825336b69fca840d",
            "a2bc142379cd4296929fe26031e0e1ff",
            "3c3479a51fa542a5be6b327ab5eb5880",
            "3a76bca7f42b49d19b4cbf4be28f46d3"
          ]
        },
        "outputId": "20bab808-7171-48c3-9d08-bae2070e5f51"
      },
      "outputs": [
        {
          "output_type": "display_data",
          "data": {
            "text/plain": [
              "  0%|          | 0/200 [00:00<?, ?it/s]"
            ],
            "application/vnd.jupyter.widget-view+json": {
              "version_major": 2,
              "version_minor": 0,
              "model_id": "f21968d385c749e79c8165e0eeb407c2"
            }
          },
          "metadata": {}
        },
        {
          "output_type": "display_data",
          "data": {
            "text/plain": [
              "<Figure size 640x480 with 1 Axes>"
            ],
            "image/png": "[encoded data removed]"
          },
          "metadata": {}
        }
      ],
      "source": [
        "n_epochs = 200\n",
        "for i in trange(n_epochs):\n",
        "\n",
        "    logits = model(graph, feat)\n",
        "    train_loss = F.cross_entropy(logits[train_mask], label[train_mask])\n",
        "\n",
        "    opt.zero_grad()\n",
        "    train_loss.backward()\n",
        "    opt.step()\n",
        "\n",
        "    with torch.no_grad():\n",
        "        val_loss = F.cross_entropy(logits[val_mask], label[val_mask])\n",
        "\n",
        "    log.append([train_loss.item(), val_loss.item()])\n",
        "\n",
        "plt.plot(np.array(log))\n",
        "plt.title('Loss')\n",
        "plt.legend(['train', 'val'])\n",
        "plt.show()"
      ]
    },
    {
      "cell_type": "code",
      "execution_count": 54,
      "id": "709249ab",
      "metadata": {
        "id": "709249ab",
        "nbgrader": {
          "grade": true,
          "grade_id": "cell-5ec89b78a948cb61",
          "locked": true,
          "points": 0,
          "schema_version": 3,
          "solution": false,
          "task": false
        },
        "colab": {
          "base_uri": "https://localhost:8080/"
        },
        "outputId": "5d66d071-1693-48e5-9a7a-74cd1839ed3c"
      },
      "outputs": [
        {
          "output_type": "stream",
          "name": "stdout",
          "text": [
            "Balanced accuracy: 0.81\n"
          ]
        }
      ],
      "source": [
        "with torch.no_grad():\n",
        "    logits = model(graph, feat)\n",
        "y_pred = torch.argmax(logits[test_mask], 1)\n",
        "score = balanced_accuracy_score(label[test_mask], y_pred)\n",
        "assert score > 0.7\n",
        "print(f'Balanced accuracy: {score:.2f}')"
      ]
    },
    {
      "cell_type": "markdown",
      "id": "fae86ed6",
      "metadata": {
        "id": "fae86ed6"
      },
      "source": [
        "### Task 8. Graph auto-encoder (2 points)"
      ]
    },
    {
      "cell_type": "markdown",
      "id": "53670340",
      "metadata": {
        "id": "53670340"
      },
      "source": [
        "Graph auto-encoder (GAE) was proposed in [[3]](#references) as a simple node embedding model that incorporates node features. The model is consists of two parts:\n",
        "* GCN node encoder $Z = \\text{GCN}(X, A)$ where $X$ is the feature matrix\n",
        "* Dot product decoder $\\hat A = \\sigma(ZZ^\\top)$ where $\\sigma$ is the sigmoid function\n",
        "\n",
        "Write a class `DotProductDecoder` that takes node embeddgins and returns dot product before activation."
      ]
    },
    {
      "cell_type": "code",
      "execution_count": 55,
      "id": "15c460db",
      "metadata": {
        "nbgrader": {
          "grade": false,
          "grade_id": "cell-a67dd0513e743f58",
          "locked": false,
          "schema_version": 3,
          "solution": true,
          "task": false
        },
        "id": "15c460db"
      },
      "outputs": [],
      "source": [
        "class DotProductDecoder(nn.Module):\n",
        "    def __init__(self):\n",
        "        super().__init__()\n",
        "    def forward(self, z):\n",
        "        return torch.matmul(z, z.T)"
      ]
    },
    {
      "cell_type": "code",
      "execution_count": 56,
      "id": "c730e093",
      "metadata": {
        "nbgrader": {
          "grade": true,
          "grade_id": "cell-4f9b59eac548798b",
          "locked": true,
          "points": 0.67,
          "schema_version": 3,
          "solution": false,
          "task": false
        },
        "id": "c730e093"
      },
      "outputs": [],
      "source": [
        "decoder = DotProductDecoder()\n",
        "assert torch.all(decoder(torch.eye(2)[:, :1]) * 2 == torch.tensor([[2, 0], [0, 0]]))"
      ]
    },
    {
      "cell_type": "markdown",
      "id": "34fb8d87",
      "metadata": {
        "id": "34fb8d87"
      },
      "source": [
        "The GAE is trained to reconstruct the adjacency matrix, that is the decoder can be considered as the link prediction model. The reconstruction loss is the binary cross entropy between the adjacency matrix $A$ and reconstructed adjacency matrix $\\hat A$. To overcome the imbalance between positive and negative edges, the loss is computed with positive weights — the number of negative exaples divided by the number of positive examples, that is $(|V|^2 - E)/E$.\n",
        "\n",
        "Write a class `ReconstructionLoss` that takes reconstructed adjacency matrix and computes the binary cross entropy with positive weights `F.binary_cross_entropy_with_logits(label, target, pos_weights=...)`. The class is initialized by the adjacency matrix."
      ]
    },
    {
      "cell_type": "code",
      "execution_count": 57,
      "id": "38651b0b",
      "metadata": {
        "nbgrader": {
          "grade": false,
          "grade_id": "cell-725f9456c5768b1e",
          "locked": false,
          "schema_version": 3,
          "solution": true,
          "task": false
        },
        "id": "38651b0b"
      },
      "outputs": [],
      "source": [
        "class ReconstructionLoss:\n",
        "    def __init__(self, adj):\n",
        "        self.adj = adj\n",
        "        pos_weight = (adj.numel() - adj.sum()) / adj.sum()\n",
        "        self.pos_weight = pos_weight.item()\n",
        "\n",
        "    def __call__(self, rec_adj):\n",
        "        return F.binary_cross_entropy_with_logits(rec_adj, self.adj, pos_weight=torch.tensor(self.pos_weight))"
      ]
    },
    {
      "cell_type": "code",
      "execution_count": 58,
      "id": "575a9887",
      "metadata": {
        "nbgrader": {
          "grade": true,
          "grade_id": "cell-e6b239111250755e",
          "locked": true,
          "points": 0.67,
          "schema_version": 3,
          "solution": false,
          "task": false
        },
        "id": "575a9887"
      },
      "outputs": [],
      "source": [
        "rec_loss = ReconstructionLoss(torch.eye(2))\n",
        "assert round(rec_loss(1 - torch.eye(2)).item(), 4) == 1.0032"
      ]
    },
    {
      "cell_type": "markdown",
      "id": "e9403b0b",
      "metadata": {
        "id": "e9403b0b"
      },
      "source": [
        "Here we initialize encoder, decoder, reconstruction loss and optimizer."
      ]
    },
    {
      "cell_type": "code",
      "execution_count": 59,
      "id": "0eb7900b",
      "metadata": {
        "id": "0eb7900b"
      },
      "outputs": [],
      "source": [
        "encoder = GCNMessagePassing(in_dim=1433, hid_dim=64, out_dim=32)\n",
        "decoder = DotProductDecoder()\n",
        "rec_loss = ReconstructionLoss(adj)\n",
        "opt = Adam(encoder.parameters(), lr=0.02)\n",
        "log = []"
      ]
    },
    {
      "cell_type": "markdown",
      "id": "6b5b5f88",
      "metadata": {
        "id": "6b5b5f88"
      },
      "source": [
        "Complete the training loop for GAE. Train the model in unsupervised setting: calculate the reconstruction loss over all edges."
      ]
    },
    {
      "cell_type": "code",
      "execution_count": 60,
      "id": "26457fa7",
      "metadata": {
        "nbgrader": {
          "grade": false,
          "grade_id": "cell-f1fe4005cbb20b73",
          "locked": false,
          "schema_version": 3,
          "solution": true,
          "task": false
        },
        "id": "26457fa7",
        "colab": {
          "base_uri": "https://localhost:8080/",
          "height": 484,
          "referenced_widgets": [
            "e51ead59ec104949bf9249cc9aed9c3a",
            "6af6e9577b144578bd435024acefbb62",
            "57fa19136112451ab97f6b1bb5ef91e4",
            "55e6e4c9001b4813bb6a60948b7843ab",
            "be4a458631ea4a54908e15c4f43ceb56",
            "f0a7b7a4a07c474d8235c2fb178717ed",
            "57950fcc8e9d4295a1eb50f262f97fa4",
            "f340955b16db4824afb5cb5943db209b",
            "9312ddb7daf244a2845c6e3d09ce9e4d",
            "ed5698f796b3459ca0689ddf4a9af79d",
            "fc24eb6a0af64f0784ba099dd06d8495"
          ]
        },
        "outputId": "d28c6e14-8b8a-4333-bb09-559939223917"
      },
      "outputs": [
        {
          "output_type": "display_data",
          "data": {
            "text/plain": [
              "  0%|          | 0/400 [00:00<?, ?it/s]"
            ],
            "application/vnd.jupyter.widget-view+json": {
              "version_major": 2,
              "version_minor": 0,
              "model_id": "e51ead59ec104949bf9249cc9aed9c3a"
            }
          },
          "metadata": {}
        },
        {
          "output_type": "display_data",
          "data": {
            "text/plain": [
              "<Figure size 640x480 with 1 Axes>"
            ],
            "image/png": "[encoded data removed]"
          },
          "metadata": {}
        }
      ],
      "source": [
        "n_epochs = 400\n",
        "for i in trange(n_epochs):\n",
        "    z = encoder(graph, feat)\n",
        "    rec_adj = decoder(z)\n",
        "    loss = rec_loss(rec_adj)\n",
        "    opt.zero_grad()\n",
        "    loss.backward()\n",
        "    opt.step()\n",
        "    log.append(loss.item())\n",
        "\n",
        "plt.plot(np.array(log))\n",
        "plt.title('Loss')\n",
        "plt.show()"
      ]
    },
    {
      "cell_type": "markdown",
      "id": "63152cb4",
      "metadata": {
        "id": "63152cb4"
      },
      "source": [
        "We evaluate GAE by obtaining node embeddings via GCN encoder and training the logistic regression for node classification task."
      ]
    },
    {
      "cell_type": "code",
      "execution_count": 61,
      "id": "8219af43",
      "metadata": {
        "nbgrader": {
          "grade": true,
          "grade_id": "cell-85a3ec5453dd8fc2",
          "locked": true,
          "points": 0.6599999999999999,
          "schema_version": 3,
          "solution": false,
          "task": false
        },
        "id": "8219af43",
        "colab": {
          "base_uri": "https://localhost:8080/"
        },
        "outputId": "6994a889-0f44-4705-9b03-77f4adf07e17"
      },
      "outputs": [
        {
          "output_type": "stream",
          "name": "stdout",
          "text": [
            "Balanced accuracy: 0.73\n"
          ]
        }
      ],
      "source": [
        "with torch.no_grad():\n",
        "    X = encoder.forward(graph, feat).numpy()\n",
        "y = label.numpy()\n",
        "\n",
        "lr = LogisticRegression()\n",
        "lr.fit(X[train_mask], y[train_mask])\n",
        "\n",
        "y_true = y[test_mask]\n",
        "y_pred = lr.predict(X[test_mask])\n",
        "score = balanced_accuracy_score(y_true, y_pred)\n",
        "assert score >= 0.6\n",
        "print(f'Balanced accuracy: {score:.2f}')"
      ]
    },
    {
      "cell_type": "markdown",
      "id": "ba9a163e",
      "metadata": {
        "id": "ba9a163e"
      },
      "source": [
        "Let us visualize node embeddings via t-SNE."
      ]
    },
    {
      "cell_type": "code",
      "execution_count": 62,
      "id": "7bd996e0",
      "metadata": {
        "id": "7bd996e0",
        "colab": {
          "base_uri": "https://localhost:8080/",
          "height": 699
        },
        "outputId": "b1eec41c-19a1-46b5-aa2e-c75fa923a5d8"
      },
      "outputs": [
        {
          "output_type": "display_data",
          "data": {
            "text/plain": [
              "<Figure size 800x800 with 1 Axes>"
            ],
            "image/png": "[encoded data removed]"
          },
          "metadata": {}
        }
      ],
      "source": [
        "xy_emb = TSNE(n_components=2).fit_transform(X)\n",
        "plt.figure(figsize=(8, 8))\n",
        "plt.title('Node embeddings of graph auto-encoder')\n",
        "scatter = plt.scatter(xy_emb[:, 0], xy_emb[:, 1], c=label, s=10, cmap=plt.cm.Set2)"
      ]
    },
    {
      "cell_type": "markdown",
      "id": "46be1142",
      "metadata": {
        "id": "46be1142"
      },
      "source": [
        "Note that GAE is the simplest encoder-decoder graph model that can be extended to the variational graph auto-encoder (VGAE) [[3]](#references) and GraphVAE [[4]](#references)."
      ]
    },
    {
      "cell_type": "markdown",
      "id": "c8e17ac5",
      "metadata": {
        "id": "c8e17ac5"
      },
      "source": [
        "### Task 9. Neighbor sampling with GraphSAGE (1 points)"
      ]
    },
    {
      "cell_type": "markdown",
      "id": "308322f8",
      "metadata": {
        "id": "308322f8"
      },
      "source": [
        "GraphSAGE (SAmple and AggreGatE) was proposed in [[5]](#references) as a model for inductive representation learning on large graph. There are two main things:\n",
        "* Neighbor sampling allows to train models in mini-batches, that is the model can be trained on large graphs and it also can represent previously unseen nodes (semi-supervised inductive learning)\n",
        "* Aggregation is perfomed separately on neighboring nodes and the node itself, that can be considered as \"skip-connections\" in graph neural networks\n",
        "\n",
        "Neighbor sampling is a technique to construct a message flow graph by randomly sampled neighbors of a target node.\n",
        "\n",
        "<img src='https://raw.githubusercontent.com/netspractice/network-science/main/images/neighbor_sampling.png' width=800>"
      ]
    },
    {
      "cell_type": "markdown",
      "id": "4bddb502",
      "metadata": {
        "id": "4bddb502"
      },
      "source": [
        "In DGL, neighbor sampling is performed by `DataLoader`. First, we create sets of indices with train, validation and test nodes."
      ]
    },
    {
      "cell_type": "code",
      "execution_count": 63,
      "id": "c056e85a",
      "metadata": {
        "id": "c056e85a",
        "colab": {
          "base_uri": "https://localhost:8080/"
        },
        "outputId": "14f1fae2-6e74-40b7-d521-1eb02ae1210b"
      },
      "outputs": [
        {
          "output_type": "execute_result",
          "data": {
            "text/plain": [
              "(tensor([0, 1, 2, 3, 4]),\n",
              " tensor([140, 141, 142, 143, 144]),\n",
              " tensor([1708, 1709, 1710, 1711, 1712]))"
            ]
          },
          "metadata": {},
          "execution_count": 63
        }
      ],
      "source": [
        "train_nids = graph.nodes()[train_mask]\n",
        "val_nids = graph.nodes()[val_mask]\n",
        "test_nids = graph.nodes()[test_mask]\n",
        "train_nids[:5], val_nids[:5], test_nids[:5]"
      ]
    },
    {
      "cell_type": "markdown",
      "id": "1a59f3e7",
      "metadata": {
        "id": "1a59f3e7"
      },
      "source": [
        "Next, we create `NeighborSampler` with given number of neighbors for each layer of our network. Let it be 4 neihbors for the first layer and 4 neighbors for the second. Next, we create dataloader with the sampler."
      ]
    },
    {
      "cell_type": "code",
      "execution_count": 64,
      "id": "292d1347",
      "metadata": {
        "id": "292d1347",
        "colab": {
          "base_uri": "https://localhost:8080/"
        },
        "outputId": "051c0238-43ec-4ff7-8f99-bb34aad05ce1"
      },
      "outputs": [
        {
          "output_type": "execute_result",
          "data": {
            "text/plain": [
              "140"
            ]
          },
          "metadata": {},
          "execution_count": 64
        }
      ],
      "source": [
        "sampler = dgl.dataloading.NeighborSampler(fanouts=[4, 4])\n",
        "train_dataloader = dgl.dataloading.DataLoader(graph, train_nids, sampler, batch_size=1)\n",
        "len(train_dataloader)"
      ]
    },
    {
      "cell_type": "markdown",
      "id": "f2ae454c",
      "metadata": {
        "id": "f2ae454c"
      },
      "source": [
        "We have set batch size is 1, that is each batch contains a single target node. The number of train nodes is 140. Dataloader iterates over:\n",
        "* input nodes — the nodes from which we collect messages in the first layer\n",
        "* output nodes — the target nodes that aggregate messages from neighbors in the second layers\n",
        "* message flow graphs — list of graphs for layers"
      ]
    },
    {
      "cell_type": "code",
      "execution_count": 65,
      "id": "bb6cba51",
      "metadata": {
        "id": "bb6cba51",
        "colab": {
          "base_uri": "https://localhost:8080/"
        },
        "outputId": "4d3e55d9-b106-4e4e-c8ad-4db78174eec3"
      },
      "outputs": [
        {
          "output_type": "execute_result",
          "data": {
            "text/plain": [
              "(tensor([   0,  633, 2582, 1862, 1701, 1866, 1166,  926]), tensor([0]))"
            ]
          },
          "metadata": {},
          "execution_count": 65
        }
      ],
      "source": [
        "for input_nodes, output_nodes, mfgs in train_dataloader:\n",
        "    break\n",
        "input_nodes, output_nodes"
      ]
    },
    {
      "cell_type": "markdown",
      "id": "04190b37",
      "metadata": {
        "id": "04190b37"
      },
      "source": [
        "We see that the target node 0 aggregates messages from 0, 633, 1862, etc."
      ]
    },
    {
      "cell_type": "code",
      "execution_count": 66,
      "id": "49567254",
      "metadata": {
        "id": "49567254",
        "colab": {
          "base_uri": "https://localhost:8080/"
        },
        "outputId": "43e55318-bdab-43c3-e148-ada7f1731c96"
      },
      "outputs": [
        {
          "output_type": "execute_result",
          "data": {
            "text/plain": [
              "(tensor([1, 2, 3]), tensor([0, 0, 0]))"
            ]
          },
          "metadata": {},
          "execution_count": 66
        }
      ],
      "source": [
        "mfgs[1].edges()"
      ]
    },
    {
      "cell_type": "markdown",
      "id": "16cdf063",
      "metadata": {
        "id": "16cdf063"
      },
      "source": [
        "The message flow graph (MFG) for the second layer consists of neighbors of the target nodes. Note that indices of nodes in MFG differs from indices in the original graph to optimize the message passing."
      ]
    },
    {
      "cell_type": "code",
      "execution_count": 67,
      "id": "b95d9250",
      "metadata": {
        "id": "b95d9250",
        "colab": {
          "base_uri": "https://localhost:8080/"
        },
        "outputId": "1716edd7-8150-457c-aa6e-cc460298370b"
      },
      "outputs": [
        {
          "output_type": "execute_result",
          "data": {
            "text/plain": [
              "(tensor([0, 1, 2, 3]), tensor([0]))"
            ]
          },
          "metadata": {},
          "execution_count": 67
        }
      ],
      "source": [
        "mfgs[1].srcnodes(), mfgs[1].dstnodes()"
      ]
    },
    {
      "cell_type": "markdown",
      "id": "fd8edf40",
      "metadata": {
        "id": "fd8edf40"
      },
      "source": [
        "MFG is bipartite, that is messages are passing from neighbors (source nodes) 0, 1, 2, 3 to the target (destination) node 0."
      ]
    },
    {
      "cell_type": "code",
      "execution_count": 68,
      "id": "d6e130d0",
      "metadata": {
        "id": "d6e130d0",
        "colab": {
          "base_uri": "https://localhost:8080/"
        },
        "outputId": "c6fad3e9-3f14-4eba-d805-fc02eeb46a49"
      },
      "outputs": [
        {
          "output_type": "execute_result",
          "data": {
            "text/plain": [
              "(tensor([3, 1, 2, 4, 0, 5, 0, 6, 3, 4, 2, 7, 0]),\n",
              " tensor([0, 0, 0, 1, 1, 1, 2, 2, 2, 3, 3, 3, 3]))"
            ]
          },
          "metadata": {},
          "execution_count": 68
        }
      ],
      "source": [
        "mfgs[0].edges()"
      ]
    },
    {
      "cell_type": "markdown",
      "id": "f4b74fcf",
      "metadata": {
        "id": "f4b74fcf"
      },
      "source": [
        "The first MFG consists of edges that follow from source nodes in the first layer (0, 1, 2, 3, 4, 5, 6, 7) to sourse nodes in the second layer (0, 1, 2, 3). Let us create train, validation and test dataloaders with batch size 64."
      ]
    },
    {
      "cell_type": "code",
      "execution_count": 69,
      "id": "8c703230",
      "metadata": {
        "id": "8c703230",
        "colab": {
          "base_uri": "https://localhost:8080/"
        },
        "outputId": "0d1d1de4-9ffb-425c-d0ee-39fedfcea8bb"
      },
      "outputs": [
        {
          "output_type": "execute_result",
          "data": {
            "text/plain": [
              "(3, 8, 16)"
            ]
          },
          "metadata": {},
          "execution_count": 69
        }
      ],
      "source": [
        "train_dataloader = dgl.dataloading.DataLoader(graph, train_nids, sampler, batch_size=64)\n",
        "val_dataloader = dgl.dataloading.DataLoader(graph, val_nids, sampler, batch_size=64)\n",
        "test_dataloader = dgl.dataloading.DataLoader(graph, test_nids, sampler, batch_size=64)\n",
        "len(train_dataloader), len(val_dataloader), len(test_dataloader)"
      ]
    },
    {
      "cell_type": "markdown",
      "id": "a7f1688b",
      "metadata": {
        "id": "a7f1688b"
      },
      "source": [
        "GraphSAGE is defined by message passing:\n",
        "\n",
        "$$h_i^l = W^l[h_i^{l-1} || \\text{Aggregation}_{j \\in \\mathcal{N}(i)}(h_j^{l-1})]$$\n",
        "\n",
        "where $[\\cdot||\\cdot]$ is concatenation. Aggregation function may be represented by average, maximum or LSTM. Let us define two-layer GraphSAGE with average aggregation and intermediate ReLU activation. `SAGEConv` layer takes the MFG and features of source node, returns the hidden of destinations nodes.\n",
        "\n",
        "Write a function `forward` that takes MFGs, feature matrix for input nodes and returns the next hidden states of output nodes."
      ]
    },
    {
      "cell_type": "code",
      "execution_count": 70,
      "id": "1c6d212a",
      "metadata": {
        "nbgrader": {
          "grade": false,
          "grade_id": "cell-42631ac0523a62a7",
          "locked": false,
          "schema_version": 3,
          "solution": true,
          "task": false
        },
        "id": "1c6d212a"
      },
      "outputs": [],
      "source": [
        "class GraphSAGE(nn.Module):\n",
        "    def __init__(self, in_dim, hid_dim, out_dim):\n",
        "        super().__init__()\n",
        "        self.conv1 = SAGEConv(in_dim, hid_dim, aggregator_type='mean')\n",
        "        self.conv2 = SAGEConv(hid_dim, out_dim, aggregator_type='mean')\n",
        "\n",
        "    def forward(self, mfgs, feat):\n",
        "        ### BEGIN SOLUTION\n",
        "        h = F.relu(self.conv1(mfgs[0], feat))\n",
        "        h = self.conv2(mfgs[1], h)\n",
        "        return h\n",
        "        ### END SOLUTION"
      ]
    },
    {
      "cell_type": "markdown",
      "id": "e747b35e",
      "metadata": {
        "id": "e747b35e"
      },
      "source": [
        "We train the model in semi-supervised setting: propagate information over the full graph, but optimize it by only train cross-entropy loss.\n",
        "\n",
        "Write a function `train_epoch` that takes GraphSAGE model, train dataloader, validation dataloader, the full feature matrix, labels and optimizer. It returns a tuple: the average train loss and the average validation loss."
      ]
    },
    {
      "cell_type": "code",
      "execution_count": 71,
      "id": "d43c50da",
      "metadata": {
        "nbgrader": {
          "grade": false,
          "grade_id": "cell-7a7eb641f7d14a3b",
          "locked": false,
          "schema_version": 3,
          "solution": true,
          "task": false
        },
        "id": "d43c50da"
      },
      "outputs": [],
      "source": [
        "def train_epoch(model, train_dataloader, val_dataloader, feat, label, opt):\n",
        "    model.train()\n",
        "    train_loss = 0\n",
        "    for input_nodes, output_nodes, mfgs in train_dataloader:\n",
        "        input_feat = feat[input_nodes]\n",
        "        output_label = label[output_nodes]\n",
        "\n",
        "        # Прямой проход\n",
        "        pred = model(mfgs, input_feat)\n",
        "        loss = F.cross_entropy(pred, output_label)\n",
        "\n",
        "        opt.zero_grad()\n",
        "        loss.backward()\n",
        "        opt.step()\n",
        "\n",
        "        train_loss += loss.item()\n",
        "\n",
        "    train_loss /= len(train_dataloader)\n",
        "\n",
        "    model.eval()\n",
        "    val_loss = 0\n",
        "    with torch.no_grad():\n",
        "        for input_nodes, output_nodes, mfgs in val_dataloader:\n",
        "            input_feat = feat[input_nodes]\n",
        "            output_label = label[output_nodes]\n",
        "\n",
        "            pred = model(mfgs, input_feat)\n",
        "            loss = F.cross_entropy(pred, output_label)\n",
        "            val_loss += loss.item()\n",
        "\n",
        "    val_loss /= len(val_dataloader)\n",
        "    return train_loss, val_loss"
      ]
    },
    {
      "cell_type": "code",
      "execution_count": 72,
      "id": "8776fb7b",
      "metadata": {
        "nbgrader": {
          "grade": true,
          "grade_id": "cell-a6c94febdc58013b",
          "locked": true,
          "points": 0.5,
          "schema_version": 3,
          "solution": false,
          "task": false
        },
        "id": "8776fb7b"
      },
      "outputs": [],
      "source": [
        "model = GraphSAGE(1433, 16, 7)\n",
        "opt = Adam(model.parameters(), lr=0.1)\n",
        "train_loss, val_loss = train_epoch(model, train_dataloader, val_dataloader, feat, label, opt)\n",
        "assert type(train_loss) == float\n",
        "assert type(val_loss) == float\n",
        "assert 1.8 < train_loss < 2.2\n",
        "assert 1.8 < val_loss < 2.2\n",
        "train_loss, val_loss = train_epoch(model, train_dataloader, val_dataloader, feat, label, opt)\n",
        "train_loss, val_loss = train_epoch(model, train_dataloader, val_dataloader, feat, label, opt)\n",
        "assert train_loss < val_loss"
      ]
    },
    {
      "cell_type": "markdown",
      "id": "e5530e48",
      "metadata": {
        "id": "e5530e48"
      },
      "source": [
        "Initialize the model and optimizers."
      ]
    },
    {
      "cell_type": "code",
      "execution_count": 73,
      "id": "a58dff00",
      "metadata": {
        "id": "a58dff00"
      },
      "outputs": [],
      "source": [
        "model = GraphSAGE(1433, 16, 7)\n",
        "opt = Adam(model.parameters(), lr=0.01)"
      ]
    },
    {
      "cell_type": "markdown",
      "id": "28def0b8",
      "metadata": {
        "id": "28def0b8"
      },
      "source": [
        "Train the model."
      ]
    },
    {
      "cell_type": "code",
      "execution_count": 74,
      "id": "55698c78",
      "metadata": {
        "id": "55698c78",
        "colab": {
          "base_uri": "https://localhost:8080/",
          "height": 484,
          "referenced_widgets": [
            "dd271f776c9048ec8339fa52dabfecd1",
            "b6a7f3722d8047368a6f250ca7eec713",
            "aa04dbb2c1c944cea9d0112c8129cd46",
            "d213d074d8784ade91325cd09508f4c3",
            "86b27d350299485a8b7ac666b2adca71",
            "5eea0f3ec9f7408fa54b7bc0af70c647",
            "f6e413e5885a45dabf6ca6d1845a26d2",
            "bc0a5e414f3949f49b62e7c56eb36bbb",
            "260273c26d714645990c34c3712fc42f",
            "044ed4048dba4d43ad759946f2078f33",
            "700847e4ab884d9d9ca90f101454ab50"
          ]
        },
        "outputId": "dda36049-d6ae-473d-c3a9-f3ae44ec9e90"
      },
      "outputs": [
        {
          "output_type": "display_data",
          "data": {
            "text/plain": [
              "  0%|          | 0/50 [00:00<?, ?it/s]"
            ],
            "application/vnd.jupyter.widget-view+json": {
              "version_major": 2,
              "version_minor": 0,
              "model_id": "dd271f776c9048ec8339fa52dabfecd1"
            }
          },
          "metadata": {}
        },
        {
          "output_type": "display_data",
          "data": {
            "text/plain": [
              "<Figure size 640x480 with 1 Axes>"
            ],
            "image/png": "[encoded data removed]"
          },
          "metadata": {}
        }
      ],
      "source": [
        "log = []\n",
        "n_epochs = 50\n",
        "for i in trange(n_epochs):\n",
        "    train_loss, val_loss = train_epoch(model, train_dataloader, val_dataloader, feat, label, opt)\n",
        "    log.append([train_loss, val_loss])\n",
        "plt.plot(np.array(log))\n",
        "plt.title('Loss')\n",
        "plt.legend(['train', 'val'])\n",
        "plt.show()"
      ]
    },
    {
      "cell_type": "code",
      "execution_count": 75,
      "id": "9d0c16d2",
      "metadata": {
        "nbgrader": {
          "grade": true,
          "grade_id": "cell-1f31b207a4f89e8f",
          "locked": true,
          "points": 0.5,
          "schema_version": 3,
          "solution": false,
          "task": false
        },
        "id": "9d0c16d2",
        "colab": {
          "base_uri": "https://localhost:8080/"
        },
        "outputId": "04661857-cafa-4d3f-ab6c-686dcdc84d40"
      },
      "outputs": [
        {
          "output_type": "stream",
          "name": "stdout",
          "text": [
            "Balanced accuracy: 0.77\n"
          ]
        }
      ],
      "source": [
        "logits = []\n",
        "for input_nodes, output_nodes, mfgs in test_dataloader:\n",
        "    with torch.no_grad():\n",
        "        logits.append(model(mfgs, feat[input_nodes]))\n",
        "logits = torch.cat(logits)\n",
        "y_pred = torch.argmax(logits, 1)\n",
        "score = balanced_accuracy_score(label[test_mask], y_pred)\n",
        "assert score > 0.7\n",
        "print(f'Balanced accuracy: {score:.2f}')"
      ]
    },
    {
      "cell_type": "markdown",
      "id": "606e2a17",
      "metadata": {
        "id": "606e2a17"
      },
      "source": [
        "### References"
      ]
    },
    {
      "cell_type": "markdown",
      "id": "9bf5f6b3",
      "metadata": {
        "id": "9bf5f6b3"
      },
      "source": [
        "<a id='references'></a>\n",
        "\n",
        "[1] Kipf, T. N., & Welling, M. (2016). Semi-Supervised Classification with Graph Convolutional Networks. CoRR, abs/1609.02907. http://arxiv.org/abs/1609.02907\n",
        "\n",
        "[2] Gilmer, J., Schoenholz, S. S., Riley, P. F., Vinyals, O., & Dahl, G. E. (2017). Neural Message Passing for Quantum Chemistry. CoRR, abs/1704.01212. http://arxiv.org/abs/1704.01212\n",
        "\n",
        "[3] Kipf, T. N., & Welling, M. (2016). Variational Graph Auto-Encoders. arXiv. https://doi.org/10.48550/ARXIV.1611.07308\n",
        "\n",
        "[4] Simonovsky, M., & Komodakis, N. (2018). GraphVAE: Towards Generation of Small Graphs Using Variational Autoencoders. CoRR, abs/1802.03480. http://arxiv.org/abs/1802.03480\n",
        "\n",
        "[5] Hamilton, W. L., Ying, R., & Leskovec, J. (2017). Inductive Representation Learning on Large Graphs. CoRR, abs/1706.02216. http://arxiv.org/abs/1706.02216"
      ]
    },
    {
      "cell_type": "code",
      "execution_count": 75,
      "id": "091d8076",
      "metadata": {
        "id": "091d8076"
      },
      "outputs": [],
      "source": []
    }
  ],
  "metadata": {
    "celltoolbar": "Create Assignment",
    "kernelspec": {
      "display_name": "Python 3",
      "language": "python",
      "name": "python3"
    },
    "language_info": {
      "codemirror_mode": {
        "name": "ipython",
        "version": 3
      },
      "file_extension": ".py",
      "mimetype": "text/x-python",
      "name": "python",
      "nbconvert_exporter": "python",
      "pygments_lexer": "ipython3",
      "version": "3.7.4"
    },
    "colab": {
      "provenance": []
    },
    "widgets": {
      "application/vnd.jupyter.widget-state+json": {
        "455be7669b354a549b7c3f370f4b8868": {
          "model_module": "@jupyter-widgets/controls",
          "model_name": "HBoxModel",
          "model_module_version": "1.5.0",
          "state": {
            "_dom_classes": [],
            "_model_module": "@jupyter-widgets/controls",
            "_model_module_version": "1.5.0",
            "_model_name": "HBoxModel",
            "_view_count": null,
            "_view_module": "@jupyter-widgets/controls",
            "_view_module_version": "1.5.0",
            "_view_name": "HBoxView",
            "box_style": "",
            "children": [
              "IPY_MODEL_25e8b57c0bbf48e6b137aec4bcca029f",
              "IPY_MODEL_7a73d2c93bb246108c7958fad8fe075b",
              "IPY_MODEL_114ecc37886d4f9c93c80fa208c5c8da"
            ],
            "layout": "IPY_MODEL_fe7b7a24495340798b1a96c0c28d4fbe"
          }
        },
        "25e8b57c0bbf48e6b137aec4bcca029f": {
          "model_module": "@jupyter-widgets/controls",
          "model_name": "HTMLModel",
          "model_module_version": "1.5.0",
          "state": {
            "_dom_classes": [],
            "_model_module": "@jupyter-widgets/controls",
            "_model_module_version": "1.5.0",
            "_model_name": "HTMLModel",
            "_view_count": null,
            "_view_module": "@jupyter-widgets/controls",
            "_view_module_version": "1.5.0",
            "_view_name": "HTMLView",
            "description": "",
            "description_tooltip": null,
            "layout": "IPY_MODEL_cde914ab6bc347afb377f0a17ebe8232",
            "placeholder": "​",
            "style": "IPY_MODEL_59c5de8638954d2588ad5ff682245240",
            "value": "100%"
          }
        },
        "7a73d2c93bb246108c7958fad8fe075b": {
          "model_module": "@jupyter-widgets/controls",
          "model_name": "FloatProgressModel",
          "model_module_version": "1.5.0",
          "state": {
            "_dom_classes": [],
            "_model_module": "@jupyter-widgets/controls",
            "_model_module_version": "1.5.0",
            "_model_name": "FloatProgressModel",
            "_view_count": null,
            "_view_module": "@jupyter-widgets/controls",
            "_view_module_version": "1.5.0",
            "_view_name": "ProgressView",
            "bar_style": "success",
            "description": "",
            "description_tooltip": null,
            "layout": "IPY_MODEL_a9269989e95449228bddba7223b8e6a0",
            "max": 200,
            "min": 0,
            "orientation": "horizontal",
            "style": "IPY_MODEL_0b612cfcc5ac4bc38402c8729c22e7ac",
            "value": 200
          }
        },
        "114ecc37886d4f9c93c80fa208c5c8da": {
          "model_module": "@jupyter-widgets/controls",
          "model_name": "HTMLModel",
          "model_module_version": "1.5.0",
          "state": {
            "_dom_classes": [],
            "_model_module": "@jupyter-widgets/controls",
            "_model_module_version": "1.5.0",
            "_model_name": "HTMLModel",
            "_view_count": null,
            "_view_module": "@jupyter-widgets/controls",
            "_view_module_version": "1.5.0",
            "_view_name": "HTMLView",
            "description": "",
            "description_tooltip": null,
            "layout": "IPY_MODEL_fc6ef00ba8444216ab2fc3ae10b01fa7",
            "placeholder": "​",
            "style": "IPY_MODEL_f9070df3967d4c91b00c81effbf0e646",
            "value": " 200/200 [08:26&lt;00:00,  2.36s/it]"
          }
        },
        "fe7b7a24495340798b1a96c0c28d4fbe": {
          "model_module": "@jupyter-widgets/base",
          "model_name": "LayoutModel",
          "model_module_version": "1.2.0",
          "state": {
            "_model_module": "@jupyter-widgets/base",
            "_model_module_version": "1.2.0",
            "_model_name": "LayoutModel",
            "_view_count": null,
            "_view_module": "@jupyter-widgets/base",
            "_view_module_version": "1.2.0",
            "_view_name": "LayoutView",
            "align_content": null,
            "align_items": null,
            "align_self": null,
            "border": null,
            "bottom": null,
            "display": null,
            "flex": null,
            "flex_flow": null,
            "grid_area": null,
            "grid_auto_columns": null,
            "grid_auto_flow": null,
            "grid_auto_rows": null,
            "grid_column": null,
            "grid_gap": null,
            "grid_row": null,
            "grid_template_areas": null,
            "grid_template_columns": null,
            "grid_template_rows": null,
            "height": null,
            "justify_content": null,
            "justify_items": null,
            "left": null,
            "margin": null,
            "max_height": null,
            "max_width": null,
            "min_height": null,
            "min_width": null,
            "object_fit": null,
            "object_position": null,
            "order": null,
            "overflow": null,
            "overflow_x": null,
            "overflow_y": null,
            "padding": null,
            "right": null,
            "top": null,
            "visibility": null,
            "width": null
          }
        },
        "cde914ab6bc347afb377f0a17ebe8232": {
          "model_module": "@jupyter-widgets/base",
          "model_name": "LayoutModel",
          "model_module_version": "1.2.0",
          "state": {
            "_model_module": "@jupyter-widgets/base",
            "_model_module_version": "1.2.0",
            "_model_name": "LayoutModel",
            "_view_count": null,
            "_view_module": "@jupyter-widgets/base",
            "_view_module_version": "1.2.0",
            "_view_name": "LayoutView",
            "align_content": null,
            "align_items": null,
            "align_self": null,
            "border": null,
            "bottom": null,
            "display": null,
            "flex": null,
            "flex_flow": null,
            "grid_area": null,
            "grid_auto_columns": null,
            "grid_auto_flow": null,
            "grid_auto_rows": null,
            "grid_column": null,
            "grid_gap": null,
            "grid_row": null,
            "grid_template_areas": null,
            "grid_template_columns": null,
            "grid_template_rows": null,
            "height": null,
            "justify_content": null,
            "justify_items": null,
            "left": null,
            "margin": null,
            "max_height": null,
            "max_width": null,
            "min_height": null,
            "min_width": null,
            "object_fit": null,
            "object_position": null,
            "order": null,
            "overflow": null,
            "overflow_x": null,
            "overflow_y": null,
            "padding": null,
            "right": null,
            "top": null,
            "visibility": null,
            "width": null
          }
        },
        "59c5de8638954d2588ad5ff682245240": {
          "model_module": "@jupyter-widgets/controls",
          "model_name": "DescriptionStyleModel",
          "model_module_version": "1.5.0",
          "state": {
            "_model_module": "@jupyter-widgets/controls",
            "_model_module_version": "1.5.0",
            "_model_name": "DescriptionStyleModel",
            "_view_count": null,
            "_view_module": "@jupyter-widgets/base",
            "_view_module_version": "1.2.0",
            "_view_name": "StyleView",
            "description_width": ""
          }
        },
        "a9269989e95449228bddba7223b8e6a0": {
          "model_module": "@jupyter-widgets/base",
          "model_name": "LayoutModel",
          "model_module_version": "1.2.0",
          "state": {
            "_model_module": "@jupyter-widgets/base",
            "_model_module_version": "1.2.0",
            "_model_name": "LayoutModel",
            "_view_count": null,
            "_view_module": "@jupyter-widgets/base",
            "_view_module_version": "1.2.0",
            "_view_name": "LayoutView",
            "align_content": null,
            "align_items": null,
            "align_self": null,
            "border": null,
            "bottom": null,
            "display": null,
            "flex": null,
            "flex_flow": null,
            "grid_area": null,
            "grid_auto_columns": null,
            "grid_auto_flow": null,
            "grid_auto_rows": null,
            "grid_column": null,
            "grid_gap": null,
            "grid_row": null,
            "grid_template_areas": null,
            "grid_template_columns": null,
            "grid_template_rows": null,
            "height": null,
            "justify_content": null,
            "justify_items": null,
            "left": null,
            "margin": null,
            "max_height": null,
            "max_width": null,
            "min_height": null,
            "min_width": null,
            "object_fit": null,
            "object_position": null,
            "order": null,
            "overflow": null,
            "overflow_x": null,
            "overflow_y": null,
            "padding": null,
            "right": null,
            "top": null,
            "visibility": null,
            "width": null
          }
        },
        "0b612cfcc5ac4bc38402c8729c22e7ac": {
          "model_module": "@jupyter-widgets/controls",
          "model_name": "ProgressStyleModel",
          "model_module_version": "1.5.0",
          "state": {
            "_model_module": "@jupyter-widgets/controls",
            "_model_module_version": "1.5.0",
            "_model_name": "ProgressStyleModel",
            "_view_count": null,
            "_view_module": "@jupyter-widgets/base",
            "_view_module_version": "1.2.0",
            "_view_name": "StyleView",
            "bar_color": null,
            "description_width": ""
          }
        },
        "fc6ef00ba8444216ab2fc3ae10b01fa7": {
          "model_module": "@jupyter-widgets/base",
          "model_name": "LayoutModel",
          "model_module_version": "1.2.0",
          "state": {
            "_model_module": "@jupyter-widgets/base",
            "_model_module_version": "1.2.0",
            "_model_name": "LayoutModel",
            "_view_count": null,
            "_view_module": "@jupyter-widgets/base",
            "_view_module_version": "1.2.0",
            "_view_name": "LayoutView",
            "align_content": null,
            "align_items": null,
            "align_self": null,
            "border": null,
            "bottom": null,
            "display": null,
            "flex": null,
            "flex_flow": null,
            "grid_area": null,
            "grid_auto_columns": null,
            "grid_auto_flow": null,
            "grid_auto_rows": null,
            "grid_column": null,
            "grid_gap": null,
            "grid_row": null,
            "grid_template_areas": null,
            "grid_template_columns": null,
            "grid_template_rows": null,
            "height": null,
            "justify_content": null,
            "justify_items": null,
            "left": null,
            "margin": null,
            "max_height": null,
            "max_width": null,
            "min_height": null,
            "min_width": null,
            "object_fit": null,
            "object_position": null,
            "order": null,
            "overflow": null,
            "overflow_x": null,
            "overflow_y": null,
            "padding": null,
            "right": null,
            "top": null,
            "visibility": null,
            "width": null
          }
        },
        "f9070df3967d4c91b00c81effbf0e646": {
          "model_module": "@jupyter-widgets/controls",
          "model_name": "DescriptionStyleModel",
          "model_module_version": "1.5.0",
          "state": {
            "_model_module": "@jupyter-widgets/controls",
            "_model_module_version": "1.5.0",
            "_model_name": "DescriptionStyleModel",
            "_view_count": null,
            "_view_module": "@jupyter-widgets/base",
            "_view_module_version": "1.2.0",
            "_view_name": "StyleView",
            "description_width": ""
          }
        },
        "f21968d385c749e79c8165e0eeb407c2": {
          "model_module": "@jupyter-widgets/controls",
          "model_name": "HBoxModel",
          "model_module_version": "1.5.0",
          "state": {
            "_dom_classes": [],
            "_model_module": "@jupyter-widgets/controls",
            "_model_module_version": "1.5.0",
            "_model_name": "HBoxModel",
            "_view_count": null,
            "_view_module": "@jupyter-widgets/controls",
            "_view_module_version": "1.5.0",
            "_view_name": "HBoxView",
            "box_style": "",
            "children": [
              "IPY_MODEL_79e971f5bcf44b4695f5f2f2ea26c7df",
              "IPY_MODEL_ad572612da974f7e86d094e2fa717038",
              "IPY_MODEL_1287be8b07234b8e86c3e491a417786f"
            ],
            "layout": "IPY_MODEL_cd7f172da423432099a9e6ec99ebfb29"
          }
        },
        "79e971f5bcf44b4695f5f2f2ea26c7df": {
          "model_module": "@jupyter-widgets/controls",
          "model_name": "HTMLModel",
          "model_module_version": "1.5.0",
          "state": {
            "_dom_classes": [],
            "_model_module": "@jupyter-widgets/controls",
            "_model_module_version": "1.5.0",
            "_model_name": "HTMLModel",
            "_view_count": null,
            "_view_module": "@jupyter-widgets/controls",
            "_view_module_version": "1.5.0",
            "_view_name": "HTMLView",
            "description": "",
            "description_tooltip": null,
            "layout": "IPY_MODEL_dd78e0834a0c43a5b1a243ccae89a533",
            "placeholder": "​",
            "style": "IPY_MODEL_f77579f8fd124f6db9358086624d6754",
            "value": "100%"
          }
        },
        "ad572612da974f7e86d094e2fa717038": {
          "model_module": "@jupyter-widgets/controls",
          "model_name": "FloatProgressModel",
          "model_module_version": "1.5.0",
          "state": {
            "_dom_classes": [],
            "_model_module": "@jupyter-widgets/controls",
            "_model_module_version": "1.5.0",
            "_model_name": "FloatProgressModel",
            "_view_count": null,
            "_view_module": "@jupyter-widgets/controls",
            "_view_module_version": "1.5.0",
            "_view_name": "ProgressView",
            "bar_style": "success",
            "description": "",
            "description_tooltip": null,
            "layout": "IPY_MODEL_f47237acc93a4945825336b69fca840d",
            "max": 200,
            "min": 0,
            "orientation": "horizontal",
            "style": "IPY_MODEL_a2bc142379cd4296929fe26031e0e1ff",
            "value": 200
          }
        },
        "1287be8b07234b8e86c3e491a417786f": {
          "model_module": "@jupyter-widgets/controls",
          "model_name": "HTMLModel",
          "model_module_version": "1.5.0",
          "state": {
            "_dom_classes": [],
            "_model_module": "@jupyter-widgets/controls",
            "_model_module_version": "1.5.0",
            "_model_name": "HTMLModel",
            "_view_count": null,
            "_view_module": "@jupyter-widgets/controls",
            "_view_module_version": "1.5.0",
            "_view_name": "HTMLView",
            "description": "",
            "description_tooltip": null,
            "layout": "IPY_MODEL_3c3479a51fa542a5be6b327ab5eb5880",
            "placeholder": "​",
            "style": "IPY_MODEL_3a76bca7f42b49d19b4cbf4be28f46d3",
            "value": " 200/200 [00:05&lt;00:00, 40.27it/s]"
          }
        },
        "cd7f172da423432099a9e6ec99ebfb29": {
          "model_module": "@jupyter-widgets/base",
          "model_name": "LayoutModel",
          "model_module_version": "1.2.0",
          "state": {
            "_model_module": "@jupyter-widgets/base",
            "_model_module_version": "1.2.0",
            "_model_name": "LayoutModel",
            "_view_count": null,
            "_view_module": "@jupyter-widgets/base",
            "_view_module_version": "1.2.0",
            "_view_name": "LayoutView",
            "align_content": null,
            "align_items": null,
            "align_self": null,
            "border": null,
            "bottom": null,
            "display": null,
            "flex": null,
            "flex_flow": null,
            "grid_area": null,
            "grid_auto_columns": null,
            "grid_auto_flow": null,
            "grid_auto_rows": null,
            "grid_column": null,
            "grid_gap": null,
            "grid_row": null,
            "grid_template_areas": null,
            "grid_template_columns": null,
            "grid_template_rows": null,
            "height": null,
            "justify_content": null,
            "justify_items": null,
            "left": null,
            "margin": null,
            "max_height": null,
            "max_width": null,
            "min_height": null,
            "min_width": null,
            "object_fit": null,
            "object_position": null,
            "order": null,
            "overflow": null,
            "overflow_x": null,
            "overflow_y": null,
            "padding": null,
            "right": null,
            "top": null,
            "visibility": null,
            "width": null
          }
        },
        "dd78e0834a0c43a5b1a243ccae89a533": {
          "model_module": "@jupyter-widgets/base",
          "model_name": "LayoutModel",
          "model_module_version": "1.2.0",
          "state": {
            "_model_module": "@jupyter-widgets/base",
            "_model_module_version": "1.2.0",
            "_model_name": "LayoutModel",
            "_view_count": null,
            "_view_module": "@jupyter-widgets/base",
            "_view_module_version": "1.2.0",
            "_view_name": "LayoutView",
            "align_content": null,
            "align_items": null,
            "align_self": null,
            "border": null,
            "bottom": null,
            "display": null,
            "flex": null,
            "flex_flow": null,
            "grid_area": null,
            "grid_auto_columns": null,
            "grid_auto_flow": null,
            "grid_auto_rows": null,
            "grid_column": null,
            "grid_gap": null,
            "grid_row": null,
            "grid_template_areas": null,
            "grid_template_columns": null,
            "grid_template_rows": null,
            "height": null,
            "justify_content": null,
            "justify_items": null,
            "left": null,
            "margin": null,
            "max_height": null,
            "max_width": null,
            "min_height": null,
            "min_width": null,
            "object_fit": null,
            "object_position": null,
            "order": null,
            "overflow": null,
            "overflow_x": null,
            "overflow_y": null,
            "padding": null,
            "right": null,
            "top": null,
            "visibility": null,
            "width": null
          }
        },
        "f77579f8fd124f6db9358086624d6754": {
          "model_module": "@jupyter-widgets/controls",
          "model_name": "DescriptionStyleModel",
          "model_module_version": "1.5.0",
          "state": {
            "_model_module": "@jupyter-widgets/controls",
            "_model_module_version": "1.5.0",
            "_model_name": "DescriptionStyleModel",
            "_view_count": null,
            "_view_module": "@jupyter-widgets/base",
            "_view_module_version": "1.2.0",
            "_view_name": "StyleView",
            "description_width": ""
          }
        },
        "f47237acc93a4945825336b69fca840d": {
          "model_module": "@jupyter-widgets/base",
          "model_name": "LayoutModel",
          "model_module_version": "1.2.0",
          "state": {
            "_model_module": "@jupyter-widgets/base",
            "_model_module_version": "1.2.0",
            "_model_name": "LayoutModel",
            "_view_count": null,
            "_view_module": "@jupyter-widgets/base",
            "_view_module_version": "1.2.0",
            "_view_name": "LayoutView",
            "align_content": null,
            "align_items": null,
            "align_self": null,
            "border": null,
            "bottom": null,
            "display": null,
            "flex": null,
            "flex_flow": null,
            "grid_area": null,
            "grid_auto_columns": null,
            "grid_auto_flow": null,
            "grid_auto_rows": null,
            "grid_column": null,
            "grid_gap": null,
            "grid_row": null,
            "grid_template_areas": null,
            "grid_template_columns": null,
            "grid_template_rows": null,
            "height": null,
            "justify_content": null,
            "justify_items": null,
            "left": null,
            "margin": null,
            "max_height": null,
            "max_width": null,
            "min_height": null,
            "min_width": null,
            "object_fit": null,
            "object_position": null,
            "order": null,
            "overflow": null,
            "overflow_x": null,
            "overflow_y": null,
            "padding": null,
            "right": null,
            "top": null,
            "visibility": null,
            "width": null
          }
        },
        "a2bc142379cd4296929fe26031e0e1ff": {
          "model_module": "@jupyter-widgets/controls",
          "model_name": "ProgressStyleModel",
          "model_module_version": "1.5.0",
          "state": {
            "_model_module": "@jupyter-widgets/controls",
            "_model_module_version": "1.5.0",
            "_model_name": "ProgressStyleModel",
            "_view_count": null,
            "_view_module": "@jupyter-widgets/base",
            "_view_module_version": "1.2.0",
            "_view_name": "StyleView",
            "bar_color": null,
            "description_width": ""
          }
        },
        "3c3479a51fa542a5be6b327ab5eb5880": {
          "model_module": "@jupyter-widgets/base",
          "model_name": "LayoutModel",
          "model_module_version": "1.2.0",
          "state": {
            "_model_module": "@jupyter-widgets/base",
            "_model_module_version": "1.2.0",
            "_model_name": "LayoutModel",
            "_view_count": null,
            "_view_module": "@jupyter-widgets/base",
            "_view_module_version": "1.2.0",
            "_view_name": "LayoutView",
            "align_content": null,
            "align_items": null,
            "align_self": null,
            "border": null,
            "bottom": null,
            "display": null,
            "flex": null,
            "flex_flow": null,
            "grid_area": null,
            "grid_auto_columns": null,
            "grid_auto_flow": null,
            "grid_auto_rows": null,
            "grid_column": null,
            "grid_gap": null,
            "grid_row": null,
            "grid_template_areas": null,
            "grid_template_columns": null,
            "grid_template_rows": null,
            "height": null,
            "justify_content": null,
            "justify_items": null,
            "left": null,
            "margin": null,
            "max_height": null,
            "max_width": null,
            "min_height": null,
            "min_width": null,
            "object_fit": null,
            "object_position": null,
            "order": null,
            "overflow": null,
            "overflow_x": null,
            "overflow_y": null,
            "padding": null,
            "right": null,
            "top": null,
            "visibility": null,
            "width": null
          }
        },
        "3a76bca7f42b49d19b4cbf4be28f46d3": {
          "model_module": "@jupyter-widgets/controls",
          "model_name": "DescriptionStyleModel",
          "model_module_version": "1.5.0",
          "state": {
            "_model_module": "@jupyter-widgets/controls",
            "_model_module_version": "1.5.0",
            "_model_name": "DescriptionStyleModel",
            "_view_count": null,
            "_view_module": "@jupyter-widgets/base",
            "_view_module_version": "1.2.0",
            "_view_name": "StyleView",
            "description_width": ""
          }
        },
        "e51ead59ec104949bf9249cc9aed9c3a": {
          "model_module": "@jupyter-widgets/controls",
          "model_name": "HBoxModel",
          "model_module_version": "1.5.0",
          "state": {
            "_dom_classes": [],
            "_model_module": "@jupyter-widgets/controls",
            "_model_module_version": "1.5.0",
            "_model_name": "HBoxModel",
            "_view_count": null,
            "_view_module": "@jupyter-widgets/controls",
            "_view_module_version": "1.5.0",
            "_view_name": "HBoxView",
            "box_style": "",
            "children": [
              "IPY_MODEL_6af6e9577b144578bd435024acefbb62",
              "IPY_MODEL_57fa19136112451ab97f6b1bb5ef91e4",
              "IPY_MODEL_55e6e4c9001b4813bb6a60948b7843ab"
            ],
            "layout": "IPY_MODEL_be4a458631ea4a54908e15c4f43ceb56"
          }
        },
        "6af6e9577b144578bd435024acefbb62": {
          "model_module": "@jupyter-widgets/controls",
          "model_name": "HTMLModel",
          "model_module_version": "1.5.0",
          "state": {
            "_dom_classes": [],
            "_model_module": "@jupyter-widgets/controls",
            "_model_module_version": "1.5.0",
            "_model_name": "HTMLModel",
            "_view_count": null,
            "_view_module": "@jupyter-widgets/controls",
            "_view_module_version": "1.5.0",
            "_view_name": "HTMLView",
            "description": "",
            "description_tooltip": null,
            "layout": "IPY_MODEL_f0a7b7a4a07c474d8235c2fb178717ed",
            "placeholder": "​",
            "style": "IPY_MODEL_57950fcc8e9d4295a1eb50f262f97fa4",
            "value": "100%"
          }
        },
        "57fa19136112451ab97f6b1bb5ef91e4": {
          "model_module": "@jupyter-widgets/controls",
          "model_name": "FloatProgressModel",
          "model_module_version": "1.5.0",
          "state": {
            "_dom_classes": [],
            "_model_module": "@jupyter-widgets/controls",
            "_model_module_version": "1.5.0",
            "_model_name": "FloatProgressModel",
            "_view_count": null,
            "_view_module": "@jupyter-widgets/controls",
            "_view_module_version": "1.5.0",
            "_view_name": "ProgressView",
            "bar_style": "success",
            "description": "",
            "description_tooltip": null,
            "layout": "IPY_MODEL_f340955b16db4824afb5cb5943db209b",
            "max": 400,
            "min": 0,
            "orientation": "horizontal",
            "style": "IPY_MODEL_9312ddb7daf244a2845c6e3d09ce9e4d",
            "value": 400
          }
        },
        "55e6e4c9001b4813bb6a60948b7843ab": {
          "model_module": "@jupyter-widgets/controls",
          "model_name": "HTMLModel",
          "model_module_version": "1.5.0",
          "state": {
            "_dom_classes": [],
            "_model_module": "@jupyter-widgets/controls",
            "_model_module_version": "1.5.0",
            "_model_name": "HTMLModel",
            "_view_count": null,
            "_view_module": "@jupyter-widgets/controls",
            "_view_module_version": "1.5.0",
            "_view_name": "HTMLView",
            "description": "",
            "description_tooltip": null,
            "layout": "IPY_MODEL_ed5698f796b3459ca0689ddf4a9af79d",
            "placeholder": "​",
            "style": "IPY_MODEL_fc24eb6a0af64f0784ba099dd06d8495",
            "value": " 400/400 [01:21&lt;00:00,  5.30it/s]"
          }
        },
        "be4a458631ea4a54908e15c4f43ceb56": {
          "model_module": "@jupyter-widgets/base",
          "model_name": "LayoutModel",
          "model_module_version": "1.2.0",
          "state": {
            "_model_module": "@jupyter-widgets/base",
            "_model_module_version": "1.2.0",
            "_model_name": "LayoutModel",
            "_view_count": null,
            "_view_module": "@jupyter-widgets/base",
            "_view_module_version": "1.2.0",
            "_view_name": "LayoutView",
            "align_content": null,
            "align_items": null,
            "align_self": null,
            "border": null,
            "bottom": null,
            "display": null,
            "flex": null,
            "flex_flow": null,
            "grid_area": null,
            "grid_auto_columns": null,
            "grid_auto_flow": null,
            "grid_auto_rows": null,
            "grid_column": null,
            "grid_gap": null,
            "grid_row": null,
            "grid_template_areas": null,
            "grid_template_columns": null,
            "grid_template_rows": null,
            "height": null,
            "justify_content": null,
            "justify_items": null,
            "left": null,
            "margin": null,
            "max_height": null,
            "max_width": null,
            "min_height": null,
            "min_width": null,
            "object_fit": null,
            "object_position": null,
            "order": null,
            "overflow": null,
            "overflow_x": null,
            "overflow_y": null,
            "padding": null,
            "right": null,
            "top": null,
            "visibility": null,
            "width": null
          }
        },
        "f0a7b7a4a07c474d8235c2fb178717ed": {
          "model_module": "@jupyter-widgets/base",
          "model_name": "LayoutModel",
          "model_module_version": "1.2.0",
          "state": {
            "_model_module": "@jupyter-widgets/base",
            "_model_module_version": "1.2.0",
            "_model_name": "LayoutModel",
            "_view_count": null,
            "_view_module": "@jupyter-widgets/base",
            "_view_module_version": "1.2.0",
            "_view_name": "LayoutView",
            "align_content": null,
            "align_items": null,
            "align_self": null,
            "border": null,
            "bottom": null,
            "display": null,
            "flex": null,
            "flex_flow": null,
            "grid_area": null,
            "grid_auto_columns": null,
            "grid_auto_flow": null,
            "grid_auto_rows": null,
            "grid_column": null,
            "grid_gap": null,
            "grid_row": null,
            "grid_template_areas": null,
            "grid_template_columns": null,
            "grid_template_rows": null,
            "height": null,
            "justify_content": null,
            "justify_items": null,
            "left": null,
            "margin": null,
            "max_height": null,
            "max_width": null,
            "min_height": null,
            "min_width": null,
            "object_fit": null,
            "object_position": null,
            "order": null,
            "overflow": null,
            "overflow_x": null,
            "overflow_y": null,
            "padding": null,
            "right": null,
            "top": null,
            "visibility": null,
            "width": null
          }
        },
        "57950fcc8e9d4295a1eb50f262f97fa4": {
          "model_module": "@jupyter-widgets/controls",
          "model_name": "DescriptionStyleModel",
          "model_module_version": "1.5.0",
          "state": {
            "_model_module": "@jupyter-widgets/controls",
            "_model_module_version": "1.5.0",
            "_model_name": "DescriptionStyleModel",
            "_view_count": null,
            "_view_module": "@jupyter-widgets/base",
            "_view_module_version": "1.2.0",
            "_view_name": "StyleView",
            "description_width": ""
          }
        },
        "f340955b16db4824afb5cb5943db209b": {
          "model_module": "@jupyter-widgets/base",
          "model_name": "LayoutModel",
          "model_module_version": "1.2.0",
          "state": {
            "_model_module": "@jupyter-widgets/base",
            "_model_module_version": "1.2.0",
            "_model_name": "LayoutModel",
            "_view_count": null,
            "_view_module": "@jupyter-widgets/base",
            "_view_module_version": "1.2.0",
            "_view_name": "LayoutView",
            "align_content": null,
            "align_items": null,
            "align_self": null,
            "border": null,
            "bottom": null,
            "display": null,
            "flex": null,
            "flex_flow": null,
            "grid_area": null,
            "grid_auto_columns": null,
            "grid_auto_flow": null,
            "grid_auto_rows": null,
            "grid_column": null,
            "grid_gap": null,
            "grid_row": null,
            "grid_template_areas": null,
            "grid_template_columns": null,
            "grid_template_rows": null,
            "height": null,
            "justify_content": null,
            "justify_items": null,
            "left": null,
            "margin": null,
            "max_height": null,
            "max_width": null,
            "min_height": null,
            "min_width": null,
            "object_fit": null,
            "object_position": null,
            "order": null,
            "overflow": null,
            "overflow_x": null,
            "overflow_y": null,
            "padding": null,
            "right": null,
            "top": null,
            "visibility": null,
            "width": null
          }
        },
        "9312ddb7daf244a2845c6e3d09ce9e4d": {
          "model_module": "@jupyter-widgets/controls",
          "model_name": "ProgressStyleModel",
          "model_module_version": "1.5.0",
          "state": {
            "_model_module": "@jupyter-widgets/controls",
            "_model_module_version": "1.5.0",
            "_model_name": "ProgressStyleModel",
            "_view_count": null,
            "_view_module": "@jupyter-widgets/base",
            "_view_module_version": "1.2.0",
            "_view_name": "StyleView",
            "bar_color": null,
            "description_width": ""
          }
        },
        "ed5698f796b3459ca0689ddf4a9af79d": {
          "model_module": "@jupyter-widgets/base",
          "model_name": "LayoutModel",
          "model_module_version": "1.2.0",
          "state": {
            "_model_module": "@jupyter-widgets/base",
            "_model_module_version": "1.2.0",
            "_model_name": "LayoutModel",
            "_view_count": null,
            "_view_module": "@jupyter-widgets/base",
            "_view_module_version": "1.2.0",
            "_view_name": "LayoutView",
            "align_content": null,
            "align_items": null,
            "align_self": null,
            "border": null,
            "bottom": null,
            "display": null,
            "flex": null,
            "flex_flow": null,
            "grid_area": null,
            "grid_auto_columns": null,
            "grid_auto_flow": null,
            "grid_auto_rows": null,
            "grid_column": null,
            "grid_gap": null,
            "grid_row": null,
            "grid_template_areas": null,
            "grid_template_columns": null,
            "grid_template_rows": null,
            "height": null,
            "justify_content": null,
            "justify_items": null,
            "left": null,
            "margin": null,
            "max_height": null,
            "max_width": null,
            "min_height": null,
            "min_width": null,
            "object_fit": null,
            "object_position": null,
            "order": null,
            "overflow": null,
            "overflow_x": null,
            "overflow_y": null,
            "padding": null,
            "right": null,
            "top": null,
            "visibility": null,
            "width": null
          }
        },
        "fc24eb6a0af64f0784ba099dd06d8495": {
          "model_module": "@jupyter-widgets/controls",
          "model_name": "DescriptionStyleModel",
          "model_module_version": "1.5.0",
          "state": {
            "_model_module": "@jupyter-widgets/controls",
            "_model_module_version": "1.5.0",
            "_model_name": "DescriptionStyleModel",
            "_view_count": null,
            "_view_module": "@jupyter-widgets/base",
            "_view_module_version": "1.2.0",
            "_view_name": "StyleView",
            "description_width": ""
          }
        },
        "dd271f776c9048ec8339fa52dabfecd1": {
          "model_module": "@jupyter-widgets/controls",
          "model_name": "HBoxModel",
          "model_module_version": "1.5.0",
          "state": {
            "_dom_classes": [],
            "_model_module": "@jupyter-widgets/controls",
            "_model_module_version": "1.5.0",
            "_model_name": "HBoxModel",
            "_view_count": null,
            "_view_module": "@jupyter-widgets/controls",
            "_view_module_version": "1.5.0",
            "_view_name": "HBoxView",
            "box_style": "",
            "children": [
              "IPY_MODEL_b6a7f3722d8047368a6f250ca7eec713",
              "IPY_MODEL_aa04dbb2c1c944cea9d0112c8129cd46",
              "IPY_MODEL_d213d074d8784ade91325cd09508f4c3"
            ],
            "layout": "IPY_MODEL_86b27d350299485a8b7ac666b2adca71"
          }
        },
        "b6a7f3722d8047368a6f250ca7eec713": {
          "model_module": "@jupyter-widgets/controls",
          "model_name": "HTMLModel",
          "model_module_version": "1.5.0",
          "state": {
            "_dom_classes": [],
            "_model_module": "@jupyter-widgets/controls",
            "_model_module_version": "1.5.0",
            "_model_name": "HTMLModel",
            "_view_count": null,
            "_view_module": "@jupyter-widgets/controls",
            "_view_module_version": "1.5.0",
            "_view_name": "HTMLView",
            "description": "",
            "description_tooltip": null,
            "layout": "IPY_MODEL_5eea0f3ec9f7408fa54b7bc0af70c647",
            "placeholder": "​",
            "style": "IPY_MODEL_f6e413e5885a45dabf6ca6d1845a26d2",
            "value": "100%"
          }
        },
        "aa04dbb2c1c944cea9d0112c8129cd46": {
          "model_module": "@jupyter-widgets/controls",
          "model_name": "FloatProgressModel",
          "model_module_version": "1.5.0",
          "state": {
            "_dom_classes": [],
            "_model_module": "@jupyter-widgets/controls",
            "_model_module_version": "1.5.0",
            "_model_name": "FloatProgressModel",
            "_view_count": null,
            "_view_module": "@jupyter-widgets/controls",
            "_view_module_version": "1.5.0",
            "_view_name": "ProgressView",
            "bar_style": "success",
            "description": "",
            "description_tooltip": null,
            "layout": "IPY_MODEL_bc0a5e414f3949f49b62e7c56eb36bbb",
            "max": 50,
            "min": 0,
            "orientation": "horizontal",
            "style": "IPY_MODEL_260273c26d714645990c34c3712fc42f",
            "value": 50
          }
        },
        "d213d074d8784ade91325cd09508f4c3": {
          "model_module": "@jupyter-widgets/controls",
          "model_name": "HTMLModel",
          "model_module_version": "1.5.0",
          "state": {
            "_dom_classes": [],
            "_model_module": "@jupyter-widgets/controls",
            "_model_module_version": "1.5.0",
            "_model_name": "HTMLModel",
            "_view_count": null,
            "_view_module": "@jupyter-widgets/controls",
            "_view_module_version": "1.5.0",
            "_view_name": "HTMLView",
            "description": "",
            "description_tooltip": null,
            "layout": "IPY_MODEL_044ed4048dba4d43ad759946f2078f33",
            "placeholder": "​",
            "style": "IPY_MODEL_700847e4ab884d9d9ca90f101454ab50",
            "value": " 50/50 [00:05&lt;00:00,  9.07it/s]"
          }
        },
        "86b27d350299485a8b7ac666b2adca71": {
          "model_module": "@jupyter-widgets/base",
          "model_name": "LayoutModel",
          "model_module_version": "1.2.0",
          "state": {
            "_model_module": "@jupyter-widgets/base",
            "_model_module_version": "1.2.0",
            "_model_name": "LayoutModel",
            "_view_count": null,
            "_view_module": "@jupyter-widgets/base",
            "_view_module_version": "1.2.0",
            "_view_name": "LayoutView",
            "align_content": null,
            "align_items": null,
            "align_self": null,
            "border": null,
            "bottom": null,
            "display": null,
            "flex": null,
            "flex_flow": null,
            "grid_area": null,
            "grid_auto_columns": null,
            "grid_auto_flow": null,
            "grid_auto_rows": null,
            "grid_column": null,
            "grid_gap": null,
            "grid_row": null,
            "grid_template_areas": null,
            "grid_template_columns": null,
            "grid_template_rows": null,
            "height": null,
            "justify_content": null,
            "justify_items": null,
            "left": null,
            "margin": null,
            "max_height": null,
            "max_width": null,
            "min_height": null,
            "min_width": null,
            "object_fit": null,
            "object_position": null,
            "order": null,
            "overflow": null,
            "overflow_x": null,
            "overflow_y": null,
            "padding": null,
            "right": null,
            "top": null,
            "visibility": null,
            "width": null
          }
        },
        "5eea0f3ec9f7408fa54b7bc0af70c647": {
          "model_module": "@jupyter-widgets/base",
          "model_name": "LayoutModel",
          "model_module_version": "1.2.0",
          "state": {
            "_model_module": "@jupyter-widgets/base",
            "_model_module_version": "1.2.0",
            "_model_name": "LayoutModel",
            "_view_count": null,
            "_view_module": "@jupyter-widgets/base",
            "_view_module_version": "1.2.0",
            "_view_name": "LayoutView",
            "align_content": null,
            "align_items": null,
            "align_self": null,
            "border": null,
            "bottom": null,
            "display": null,
            "flex": null,
            "flex_flow": null,
            "grid_area": null,
            "grid_auto_columns": null,
            "grid_auto_flow": null,
            "grid_auto_rows": null,
            "grid_column": null,
            "grid_gap": null,
            "grid_row": null,
            "grid_template_areas": null,
            "grid_template_columns": null,
            "grid_template_rows": null,
            "height": null,
            "justify_content": null,
            "justify_items": null,
            "left": null,
            "margin": null,
            "max_height": null,
            "max_width": null,
            "min_height": null,
            "min_width": null,
            "object_fit": null,
            "object_position": null,
            "order": null,
            "overflow": null,
            "overflow_x": null,
            "overflow_y": null,
            "padding": null,
            "right": null,
            "top": null,
            "visibility": null,
            "width": null
          }
        },
        "f6e413e5885a45dabf6ca6d1845a26d2": {
          "model_module": "@jupyter-widgets/controls",
          "model_name": "DescriptionStyleModel",
          "model_module_version": "1.5.0",
          "state": {
            "_model_module": "@jupyter-widgets/controls",
            "_model_module_version": "1.5.0",
            "_model_name": "DescriptionStyleModel",
            "_view_count": null,
            "_view_module": "@jupyter-widgets/base",
            "_view_module_version": "1.2.0",
            "_view_name": "StyleView",
            "description_width": ""
          }
        },
        "bc0a5e414f3949f49b62e7c56eb36bbb": {
          "model_module": "@jupyter-widgets/base",
          "model_name": "LayoutModel",
          "model_module_version": "1.2.0",
          "state": {
            "_model_module": "@jupyter-widgets/base",
            "_model_module_version": "1.2.0",
            "_model_name": "LayoutModel",
            "_view_count": null,
            "_view_module": "@jupyter-widgets/base",
            "_view_module_version": "1.2.0",
            "_view_name": "LayoutView",
            "align_content": null,
            "align_items": null,
            "align_self": null,
            "border": null,
            "bottom": null,
            "display": null,
            "flex": null,
            "flex_flow": null,
            "grid_area": null,
            "grid_auto_columns": null,
            "grid_auto_flow": null,
            "grid_auto_rows": null,
            "grid_column": null,
            "grid_gap": null,
            "grid_row": null,
            "grid_template_areas": null,
            "grid_template_columns": null,
            "grid_template_rows": null,
            "height": null,
            "justify_content": null,
            "justify_items": null,
            "left": null,
            "margin": null,
            "max_height": null,
            "max_width": null,
            "min_height": null,
            "min_width": null,
            "object_fit": null,
            "object_position": null,
            "order": null,
            "overflow": null,
            "overflow_x": null,
            "overflow_y": null,
            "padding": null,
            "right": null,
            "top": null,
            "visibility": null,
            "width": null
          }
        },
        "260273c26d714645990c34c3712fc42f": {
          "model_module": "@jupyter-widgets/controls",
          "model_name": "ProgressStyleModel",
          "model_module_version": "1.5.0",
          "state": {
            "_model_module": "@jupyter-widgets/controls",
            "_model_module_version": "1.5.0",
            "_model_name": "ProgressStyleModel",
            "_view_count": null,
            "_view_module": "@jupyter-widgets/base",
            "_view_module_version": "1.2.0",
            "_view_name": "StyleView",
            "bar_color": null,
            "description_width": ""
          }
        },
        "044ed4048dba4d43ad759946f2078f33": {
          "model_module": "@jupyter-widgets/base",
          "model_name": "LayoutModel",
          "model_module_version": "1.2.0",
          "state": {
            "_model_module": "@jupyter-widgets/base",
            "_model_module_version": "1.2.0",
            "_model_name": "LayoutModel",
            "_view_count": null,
            "_view_module": "@jupyter-widgets/base",
            "_view_module_version": "1.2.0",
            "_view_name": "LayoutView",
            "align_content": null,
            "align_items": null,
            "align_self": null,
            "border": null,
            "bottom": null,
            "display": null,
            "flex": null,
            "flex_flow": null,
            "grid_area": null,
            "grid_auto_columns": null,
            "grid_auto_flow": null,
            "grid_auto_rows": null,
            "grid_column": null,
            "grid_gap": null,
            "grid_row": null,
            "grid_template_areas": null,
            "grid_template_columns": null,
            "grid_template_rows": null,
            "height": null,
            "justify_content": null,
            "justify_items": null,
            "left": null,
            "margin": null,
            "max_height": null,
            "max_width": null,
            "min_height": null,
            "min_width": null,
            "object_fit": null,
            "object_position": null,
            "order": null,
            "overflow": null,
            "overflow_x": null,
            "overflow_y": null,
            "padding": null,
            "right": null,
            "top": null,
            "visibility": null,
            "width": null
          }
        },
        "700847e4ab884d9d9ca90f101454ab50": {
          "model_module": "@jupyter-widgets/controls",
          "model_name": "DescriptionStyleModel",
          "model_module_version": "1.5.0",
          "state": {
            "_model_module": "@jupyter-widgets/controls",
            "_model_module_version": "1.5.0",
            "_model_name": "DescriptionStyleModel",
            "_view_count": null,
            "_view_module": "@jupyter-widgets/base",
            "_view_module_version": "1.2.0",
            "_view_name": "StyleView",
            "description_width": ""
          }
        }
      }
    }
  },
  "nbformat": 4,
  "nbformat_minor": 5
}